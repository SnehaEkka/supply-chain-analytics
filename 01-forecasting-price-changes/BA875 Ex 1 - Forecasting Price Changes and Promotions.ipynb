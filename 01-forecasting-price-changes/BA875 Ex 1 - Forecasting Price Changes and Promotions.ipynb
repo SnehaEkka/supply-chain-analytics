{
  "nbformat": 4,
  "nbformat_minor": 0,
  "metadata": {
    "colab": {
      "provenance": []
    },
    "kernelspec": {
      "name": "python3",
      "display_name": "Python 3"
    },
    "language_info": {
      "name": "python"
    }
  },
  "cells": [
    {
      "cell_type": "markdown",
      "source": [
        "# **Exercise 1: Forecasting Price Changes & Promotions**\n",
        "---\n",
        "\n",
        "**Dataset:** jeans_data_full_dataset"
      ],
      "metadata": {
        "id": "MpO6E5J3A9v-"
      }
    },
    {
      "cell_type": "markdown",
      "source": [
        "## Importing Libraries"
      ],
      "metadata": {
        "id": "8muEQnWyBI0J"
      }
    },
    {
      "cell_type": "code",
      "execution_count": null,
      "metadata": {
        "id": "Tiz7Fj4jAWu6"
      },
      "outputs": [],
      "source": [
        "import pandas as pd\n",
        "import numpy as np\n",
        "import matplotlib.pyplot as plt\n",
        "import seaborn as sns\n",
        "from google.colab import drive\n",
        "import statsmodels.api as sm"
      ]
    },
    {
      "cell_type": "markdown",
      "source": [
        "## Loading the Data"
      ],
      "metadata": {
        "id": "xvXcNtZoTaml"
      }
    },
    {
      "cell_type": "code",
      "source": [
        "data = pd.read_excel('/content/jeans_data_full_dataset.xlsx')\n",
        "data.head()"
      ],
      "metadata": {
        "colab": {
          "base_uri": "https://localhost:8080/",
          "height": 206
        },
        "id": "VPJa-Hn4BVKr",
        "outputId": "7d9632db-e3e8-4bc4-e581-0a41c6f2a887"
      },
      "execution_count": null,
      "outputs": [
        {
          "output_type": "execute_result",
          "data": {
            "text/plain": [
              "   week  price  sales   special_event  se_indicator\n",
              "0     1     94    259  New Year's Day             1\n",
              "1     2    135     69             NaN             0\n",
              "2     3    135     59             NaN             0\n",
              "3     4     81    149             NaN             0\n",
              "4     5    135     72             NaN             0"
            ],
            "text/html": [
              "\n",
              "  <div id=\"df-b29ab38d-ebf1-4dca-b5d3-5b67b8e8e109\" class=\"colab-df-container\">\n",
              "    <div>\n",
              "<style scoped>\n",
              "    .dataframe tbody tr th:only-of-type {\n",
              "        vertical-align: middle;\n",
              "    }\n",
              "\n",
              "    .dataframe tbody tr th {\n",
              "        vertical-align: top;\n",
              "    }\n",
              "\n",
              "    .dataframe thead th {\n",
              "        text-align: right;\n",
              "    }\n",
              "</style>\n",
              "<table border=\"1\" class=\"dataframe\">\n",
              "  <thead>\n",
              "    <tr style=\"text-align: right;\">\n",
              "      <th></th>\n",
              "      <th>week</th>\n",
              "      <th>price</th>\n",
              "      <th>sales</th>\n",
              "      <th>special_event</th>\n",
              "      <th>se_indicator</th>\n",
              "    </tr>\n",
              "  </thead>\n",
              "  <tbody>\n",
              "    <tr>\n",
              "      <th>0</th>\n",
              "      <td>1</td>\n",
              "      <td>94</td>\n",
              "      <td>259</td>\n",
              "      <td>New Year's Day</td>\n",
              "      <td>1</td>\n",
              "    </tr>\n",
              "    <tr>\n",
              "      <th>1</th>\n",
              "      <td>2</td>\n",
              "      <td>135</td>\n",
              "      <td>69</td>\n",
              "      <td>NaN</td>\n",
              "      <td>0</td>\n",
              "    </tr>\n",
              "    <tr>\n",
              "      <th>2</th>\n",
              "      <td>3</td>\n",
              "      <td>135</td>\n",
              "      <td>59</td>\n",
              "      <td>NaN</td>\n",
              "      <td>0</td>\n",
              "    </tr>\n",
              "    <tr>\n",
              "      <th>3</th>\n",
              "      <td>4</td>\n",
              "      <td>81</td>\n",
              "      <td>149</td>\n",
              "      <td>NaN</td>\n",
              "      <td>0</td>\n",
              "    </tr>\n",
              "    <tr>\n",
              "      <th>4</th>\n",
              "      <td>5</td>\n",
              "      <td>135</td>\n",
              "      <td>72</td>\n",
              "      <td>NaN</td>\n",
              "      <td>0</td>\n",
              "    </tr>\n",
              "  </tbody>\n",
              "</table>\n",
              "</div>\n",
              "    <div class=\"colab-df-buttons\">\n",
              "\n",
              "  <div class=\"colab-df-container\">\n",
              "    <button class=\"colab-df-convert\" onclick=\"convertToInteractive('df-b29ab38d-ebf1-4dca-b5d3-5b67b8e8e109')\"\n",
              "            title=\"Convert this dataframe to an interactive table.\"\n",
              "            style=\"display:none;\">\n",
              "\n",
              "  <svg xmlns=\"http://www.w3.org/2000/svg\" height=\"24px\" viewBox=\"0 -960 960 960\">\n",
              "    <path d=\"M120-120v-720h720v720H120Zm60-500h600v-160H180v160Zm220 220h160v-160H400v160Zm0 220h160v-160H400v160ZM180-400h160v-160H180v160Zm440 0h160v-160H620v160ZM180-180h160v-160H180v160Zm440 0h160v-160H620v160Z\"/>\n",
              "  </svg>\n",
              "    </button>\n",
              "\n",
              "  <style>\n",
              "    .colab-df-container {\n",
              "      display:flex;\n",
              "      gap: 12px;\n",
              "    }\n",
              "\n",
              "    .colab-df-convert {\n",
              "      background-color: #E8F0FE;\n",
              "      border: none;\n",
              "      border-radius: 50%;\n",
              "      cursor: pointer;\n",
              "      display: none;\n",
              "      fill: #1967D2;\n",
              "      height: 32px;\n",
              "      padding: 0 0 0 0;\n",
              "      width: 32px;\n",
              "    }\n",
              "\n",
              "    .colab-df-convert:hover {\n",
              "      background-color: #E2EBFA;\n",
              "      box-shadow: 0px 1px 2px rgba(60, 64, 67, 0.3), 0px 1px 3px 1px rgba(60, 64, 67, 0.15);\n",
              "      fill: #174EA6;\n",
              "    }\n",
              "\n",
              "    .colab-df-buttons div {\n",
              "      margin-bottom: 4px;\n",
              "    }\n",
              "\n",
              "    [theme=dark] .colab-df-convert {\n",
              "      background-color: #3B4455;\n",
              "      fill: #D2E3FC;\n",
              "    }\n",
              "\n",
              "    [theme=dark] .colab-df-convert:hover {\n",
              "      background-color: #434B5C;\n",
              "      box-shadow: 0px 1px 3px 1px rgba(0, 0, 0, 0.15);\n",
              "      filter: drop-shadow(0px 1px 2px rgba(0, 0, 0, 0.3));\n",
              "      fill: #FFFFFF;\n",
              "    }\n",
              "  </style>\n",
              "\n",
              "    <script>\n",
              "      const buttonEl =\n",
              "        document.querySelector('#df-b29ab38d-ebf1-4dca-b5d3-5b67b8e8e109 button.colab-df-convert');\n",
              "      buttonEl.style.display =\n",
              "        google.colab.kernel.accessAllowed ? 'block' : 'none';\n",
              "\n",
              "      async function convertToInteractive(key) {\n",
              "        const element = document.querySelector('#df-b29ab38d-ebf1-4dca-b5d3-5b67b8e8e109');\n",
              "        const dataTable =\n",
              "          await google.colab.kernel.invokeFunction('convertToInteractive',\n",
              "                                                    [key], {});\n",
              "        if (!dataTable) return;\n",
              "\n",
              "        const docLinkHtml = 'Like what you see? Visit the ' +\n",
              "          '<a target=\"_blank\" href=https://colab.research.google.com/notebooks/data_table.ipynb>data table notebook</a>'\n",
              "          + ' to learn more about interactive tables.';\n",
              "        element.innerHTML = '';\n",
              "        dataTable['output_type'] = 'display_data';\n",
              "        await google.colab.output.renderOutput(dataTable, element);\n",
              "        const docLink = document.createElement('div');\n",
              "        docLink.innerHTML = docLinkHtml;\n",
              "        element.appendChild(docLink);\n",
              "      }\n",
              "    </script>\n",
              "  </div>\n",
              "\n",
              "\n",
              "<div id=\"df-3cc9721b-c982-4772-a33d-d2f45e2c8ead\">\n",
              "  <button class=\"colab-df-quickchart\" onclick=\"quickchart('df-3cc9721b-c982-4772-a33d-d2f45e2c8ead')\"\n",
              "            title=\"Suggest charts\"\n",
              "            style=\"display:none;\">\n",
              "\n",
              "<svg xmlns=\"http://www.w3.org/2000/svg\" height=\"24px\"viewBox=\"0 0 24 24\"\n",
              "     width=\"24px\">\n",
              "    <g>\n",
              "        <path d=\"M19 3H5c-1.1 0-2 .9-2 2v14c0 1.1.9 2 2 2h14c1.1 0 2-.9 2-2V5c0-1.1-.9-2-2-2zM9 17H7v-7h2v7zm4 0h-2V7h2v10zm4 0h-2v-4h2v4z\"/>\n",
              "    </g>\n",
              "</svg>\n",
              "  </button>\n",
              "\n",
              "<style>\n",
              "  .colab-df-quickchart {\n",
              "      --bg-color: #E8F0FE;\n",
              "      --fill-color: #1967D2;\n",
              "      --hover-bg-color: #E2EBFA;\n",
              "      --hover-fill-color: #174EA6;\n",
              "      --disabled-fill-color: #AAA;\n",
              "      --disabled-bg-color: #DDD;\n",
              "  }\n",
              "\n",
              "  [theme=dark] .colab-df-quickchart {\n",
              "      --bg-color: #3B4455;\n",
              "      --fill-color: #D2E3FC;\n",
              "      --hover-bg-color: #434B5C;\n",
              "      --hover-fill-color: #FFFFFF;\n",
              "      --disabled-bg-color: #3B4455;\n",
              "      --disabled-fill-color: #666;\n",
              "  }\n",
              "\n",
              "  .colab-df-quickchart {\n",
              "    background-color: var(--bg-color);\n",
              "    border: none;\n",
              "    border-radius: 50%;\n",
              "    cursor: pointer;\n",
              "    display: none;\n",
              "    fill: var(--fill-color);\n",
              "    height: 32px;\n",
              "    padding: 0;\n",
              "    width: 32px;\n",
              "  }\n",
              "\n",
              "  .colab-df-quickchart:hover {\n",
              "    background-color: var(--hover-bg-color);\n",
              "    box-shadow: 0 1px 2px rgba(60, 64, 67, 0.3), 0 1px 3px 1px rgba(60, 64, 67, 0.15);\n",
              "    fill: var(--button-hover-fill-color);\n",
              "  }\n",
              "\n",
              "  .colab-df-quickchart-complete:disabled,\n",
              "  .colab-df-quickchart-complete:disabled:hover {\n",
              "    background-color: var(--disabled-bg-color);\n",
              "    fill: var(--disabled-fill-color);\n",
              "    box-shadow: none;\n",
              "  }\n",
              "\n",
              "  .colab-df-spinner {\n",
              "    border: 2px solid var(--fill-color);\n",
              "    border-color: transparent;\n",
              "    border-bottom-color: var(--fill-color);\n",
              "    animation:\n",
              "      spin 1s steps(1) infinite;\n",
              "  }\n",
              "\n",
              "  @keyframes spin {\n",
              "    0% {\n",
              "      border-color: transparent;\n",
              "      border-bottom-color: var(--fill-color);\n",
              "      border-left-color: var(--fill-color);\n",
              "    }\n",
              "    20% {\n",
              "      border-color: transparent;\n",
              "      border-left-color: var(--fill-color);\n",
              "      border-top-color: var(--fill-color);\n",
              "    }\n",
              "    30% {\n",
              "      border-color: transparent;\n",
              "      border-left-color: var(--fill-color);\n",
              "      border-top-color: var(--fill-color);\n",
              "      border-right-color: var(--fill-color);\n",
              "    }\n",
              "    40% {\n",
              "      border-color: transparent;\n",
              "      border-right-color: var(--fill-color);\n",
              "      border-top-color: var(--fill-color);\n",
              "    }\n",
              "    60% {\n",
              "      border-color: transparent;\n",
              "      border-right-color: var(--fill-color);\n",
              "    }\n",
              "    80% {\n",
              "      border-color: transparent;\n",
              "      border-right-color: var(--fill-color);\n",
              "      border-bottom-color: var(--fill-color);\n",
              "    }\n",
              "    90% {\n",
              "      border-color: transparent;\n",
              "      border-bottom-color: var(--fill-color);\n",
              "    }\n",
              "  }\n",
              "</style>\n",
              "\n",
              "  <script>\n",
              "    async function quickchart(key) {\n",
              "      const quickchartButtonEl =\n",
              "        document.querySelector('#' + key + ' button');\n",
              "      quickchartButtonEl.disabled = true;  // To prevent multiple clicks.\n",
              "      quickchartButtonEl.classList.add('colab-df-spinner');\n",
              "      try {\n",
              "        const charts = await google.colab.kernel.invokeFunction(\n",
              "            'suggestCharts', [key], {});\n",
              "      } catch (error) {\n",
              "        console.error('Error during call to suggestCharts:', error);\n",
              "      }\n",
              "      quickchartButtonEl.classList.remove('colab-df-spinner');\n",
              "      quickchartButtonEl.classList.add('colab-df-quickchart-complete');\n",
              "    }\n",
              "    (() => {\n",
              "      let quickchartButtonEl =\n",
              "        document.querySelector('#df-3cc9721b-c982-4772-a33d-d2f45e2c8ead button');\n",
              "      quickchartButtonEl.style.display =\n",
              "        google.colab.kernel.accessAllowed ? 'block' : 'none';\n",
              "    })();\n",
              "  </script>\n",
              "</div>\n",
              "    </div>\n",
              "  </div>\n"
            ],
            "application/vnd.google.colaboratory.intrinsic+json": {
              "type": "dataframe",
              "variable_name": "data",
              "summary": "{\n  \"name\": \"data\",\n  \"rows\": 520,\n  \"fields\": [\n    {\n      \"column\": \"week\",\n      \"properties\": {\n        \"dtype\": \"number\",\n        \"std\": 150,\n        \"min\": 1,\n        \"max\": 520,\n        \"num_unique_values\": 520,\n        \"samples\": [\n          276,\n          94,\n          7\n        ],\n        \"semantic_type\": \"\",\n        \"description\": \"\"\n      }\n    },\n    {\n      \"column\": \"price\",\n      \"properties\": {\n        \"dtype\": \"number\",\n        \"std\": 21,\n        \"min\": 74,\n        \"max\": 135,\n        \"num_unique_values\": 7,\n        \"samples\": [\n          94,\n          135,\n          88\n        ],\n        \"semantic_type\": \"\",\n        \"description\": \"\"\n      }\n    },\n    {\n      \"column\": \"sales\",\n      \"properties\": {\n        \"dtype\": \"number\",\n        \"std\": 69,\n        \"min\": 38,\n        \"max\": 292,\n        \"num_unique_values\": 147,\n        \"samples\": [\n          251,\n          239,\n          262\n        ],\n        \"semantic_type\": \"\",\n        \"description\": \"\"\n      }\n    },\n    {\n      \"column\": \"special_event\",\n      \"properties\": {\n        \"dtype\": \"category\",\n        \"num_unique_values\": 12,\n        \"samples\": [\n          \"Christmas Eve\",\n          \"Black Friday\",\n          \"New Year's Day\"\n        ],\n        \"semantic_type\": \"\",\n        \"description\": \"\"\n      }\n    },\n    {\n      \"column\": \"se_indicator\",\n      \"properties\": {\n        \"dtype\": \"number\",\n        \"std\": 0,\n        \"min\": 0,\n        \"max\": 1,\n        \"num_unique_values\": 2,\n        \"samples\": [\n          0,\n          1\n        ],\n        \"semantic_type\": \"\",\n        \"description\": \"\"\n      }\n    }\n  ]\n}"
            }
          },
          "metadata": {},
          "execution_count": 2
        }
      ]
    },
    {
      "cell_type": "code",
      "source": [
        "data.info()"
      ],
      "metadata": {
        "colab": {
          "base_uri": "https://localhost:8080/"
        },
        "id": "yn-oj1lZBcht",
        "outputId": "bcb6fe7d-15d2-4646-d790-26aca367f600"
      },
      "execution_count": null,
      "outputs": [
        {
          "output_type": "stream",
          "name": "stdout",
          "text": [
            "<class 'pandas.core.frame.DataFrame'>\n",
            "RangeIndex: 520 entries, 0 to 519\n",
            "Data columns (total 5 columns):\n",
            " #   Column         Non-Null Count  Dtype \n",
            "---  ------         --------------  ----- \n",
            " 0   week           520 non-null    int64 \n",
            " 1   price          520 non-null    int64 \n",
            " 2   sales          520 non-null    int64 \n",
            " 3   special_event  120 non-null    object\n",
            " 4   se_indicator   520 non-null    int64 \n",
            "dtypes: int64(4), object(1)\n",
            "memory usage: 20.4+ KB\n"
          ]
        }
      ]
    },
    {
      "cell_type": "markdown",
      "source": [
        "## Visualising Sales"
      ],
      "metadata": {
        "id": "pUCeowSHUIjY"
      }
    },
    {
      "cell_type": "code",
      "source": [
        "plt.figure(figsize=(18, 6))\n",
        "\n",
        "# Histogram of sales\n",
        "plt.subplot(1, 3, 1)\n",
        "sns.histplot(data['sales'], bins=20, kde=True, color='blue')\n",
        "plt.title('Sales Distribution')\n",
        "\n",
        "# Histogram of prices\n",
        "plt.subplot(1, 3, 2)\n",
        "sns.histplot(data['price'], bins=20, kde=True, color='pink')\n",
        "plt.title('Price Distribution')\n",
        "\n",
        "plt.tight_layout()\n",
        "plt.show()"
      ],
      "metadata": {
        "colab": {
          "base_uri": "https://localhost:8080/",
          "height": 441
        },
        "id": "Pf_8v4cHWblS",
        "outputId": "b16ba653-b810-4341-8e35-60b6462a91ec"
      },
      "execution_count": null,
      "outputs": [
        {
          "output_type": "display_data",
          "data": {
            "text/plain": [
              "<Figure size 1800x600 with 2 Axes>"
            ],
            "image/png": "[encoded data removed]"
          },
          "metadata": {}
        }
      ]
    },
    {
      "cell_type": "markdown",
      "source": [
        "## Model 1\n",
        "---\n",
        "Price (in $) and special event indicator as an independent variable\n",
        "- Calculate the predicted sales from promo (P) when directly including price and special event indicator as independent variables into a regression model."
      ],
      "metadata": {
        "id": "0O4X3Rc_BroH"
      }
    },
    {
      "cell_type": "code",
      "source": [
        "original_price = 135\n",
        "new_promo_off = 25"
      ],
      "metadata": {
        "id": "KIORprBqPaRy"
      },
      "execution_count": null,
      "outputs": []
    },
    {
      "cell_type": "code",
      "source": [
        "# Adding constant\n",
        "X = sm.add_constant(data[['price','se_indicator']])\n",
        "y = data['sales']\n",
        "\n",
        "# Fitting the OLS Model\n",
        "model_1 = sm.OLS(y, X).fit()\n",
        "\n",
        "# Results Summary\n",
        "print(model_1.summary())"
      ],
      "metadata": {
        "colab": {
          "base_uri": "https://localhost:8080/"
        },
        "id": "EerQ7rJJBeGc",
        "outputId": "ac1b05dd-416c-4aaf-fbb4-8f8bb80d40f3"
      },
      "execution_count": null,
      "outputs": [
        {
          "output_type": "stream",
          "name": "stdout",
          "text": [
            "                            OLS Regression Results                            \n",
            "==============================================================================\n",
            "Dep. Variable:                  sales   R-squared:                       0.930\n",
            "Model:                            OLS   Adj. R-squared:                  0.930\n",
            "Method:                 Least Squares   F-statistic:                     3427.\n",
            "Date:                Tue, 26 Mar 2024   Prob (F-statistic):          4.66e-299\n",
            "Time:                        05:39:00   Log-Likelihood:                -2253.1\n",
            "No. Observations:                 520   AIC:                             4512.\n",
            "Df Residuals:                     517   BIC:                             4525.\n",
            "Df Model:                           2                                         \n",
            "Covariance Type:            nonrobust                                         \n",
            "================================================================================\n",
            "                   coef    std err          t      P>|t|      [0.025      0.975]\n",
            "--------------------------------------------------------------------------------\n",
            "const          252.0725      7.902     31.901      0.000     236.549     267.596\n",
            "price           -1.3523      0.060    -22.494      0.000      -1.470      -1.234\n",
            "se_indicator   100.9494      3.019     33.440      0.000      95.019     106.880\n",
            "==============================================================================\n",
            "Omnibus:                       52.143   Durbin-Watson:                   2.064\n",
            "Prob(Omnibus):                  0.000   Jarque-Bera (JB):              139.683\n",
            "Skew:                           0.493   Prob(JB):                     4.66e-31\n",
            "Kurtosis:                       5.340   Cond. No.                     1.26e+03\n",
            "==============================================================================\n",
            "\n",
            "Notes:\n",
            "[1] Standard Errors assume that the covariance matrix of the errors is correctly specified.\n",
            "[2] The condition number is large, 1.26e+03. This might indicate that there are\n",
            "strong multicollinearity or other numerical problems.\n"
          ]
        }
      ]
    },
    {
      "cell_type": "markdown",
      "source": [
        "Based on the OLS regression output, we can interpret the coefficients as follows:\n",
        "\n",
        "- **Constant (const):** The coefficient of 252.0725 represents the base level of sales when the price is 0 and there is no special event (se_indicator = 0).\n",
        "- **Price:** The coefficient of -1.3523 suggests that for every one unit increase in price, the sales decrease by 1.3523 units, holding all other variables constant. This negative coefficient indicates an inverse relationship between price and sales, which aligns with basic economic principles - as prices increase, demand (sales) tends to decrease.\n",
        "- **se_indicator:** The coefficient of 100.9494 represents the expected increase in sales when there is a special event (se_indicator = 1), keeping the price constant. This positive coefficient suggests that special events or promotions tend to boost sales significantly.\n",
        "\n",
        "All of the independent variables are statistically significant in contributing to sales as the outcome variable."
      ],
      "metadata": {
        "id": "IMD3n3y-XnPA"
      }
    },
    {
      "cell_type": "markdown",
      "source": [
        "### Predicted Sales using Model 1"
      ],
      "metadata": {
        "id": "krT_z5V5Ms_K"
      }
    },
    {
      "cell_type": "code",
      "source": [
        "discounted_price = original_price - new_promo_off\n",
        "\n",
        "# Predicting sales for New Promo ($25 off) and Special Event = 1\n",
        "sales_pred_1 = model_1.params['const'] + model_1.params['price']*discounted_price + model_1.params['se_indicator']*1\n",
        "\n",
        "print('Predicted Sales from Model 1: $', np.round(sales_pred_1,2))"
      ],
      "metadata": {
        "colab": {
          "base_uri": "https://localhost:8080/"
        },
        "id": "SDpad0PeM3qE",
        "outputId": "418b7f36-2984-4bd9-8455-5c6c270b2fb2"
      },
      "execution_count": null,
      "outputs": [
        {
          "output_type": "stream",
          "name": "stdout",
          "text": [
            "Predicted Sales from Model 1: $ 204.27\n"
          ]
        }
      ]
    },
    {
      "cell_type": "markdown",
      "source": [
        "**Model 1: Predicted Sales Interpretation**\n",
        "\n",
        "Based on the analysis using our predictive model, if we offer a $25 discount on jeans in a future week, we should expect approximately `$`204.27 sales in response. This prediction accounts for the impact of both the discount amount and the occurrence of special events on sales."
      ],
      "metadata": {
        "id": "bRq3fFLqX905"
      }
    },
    {
      "cell_type": "markdown",
      "source": [
        "## Model 2\n",
        "---\n",
        "Price (as a % discount off original price) and special event indicator as an independent variable\n",
        "- Calculate the predicted sales promo (P) when directly including price and special\n",
        "event indicator as before, but this time replace price with a % discount variable, and\n",
        "include discount as an independent variable into a regression model."
      ],
      "metadata": {
        "id": "6l0zPhEcDsZp"
      }
    },
    {
      "cell_type": "code",
      "source": [
        "# Creating the discount percentage column\n",
        "data['discount_perc'] = ((original_price - data['price']) / original_price) * 100\n",
        "\n",
        "# Adding constant\n",
        "X = sm.add_constant(data[['discount_perc','se_indicator']])\n",
        "y = data['sales']\n",
        "\n",
        "# Fitting the OLS Model\n",
        "model_2 = sm.OLS(y, X).fit()\n",
        "\n",
        "# Results Summary\n",
        "print(model_2.summary())"
      ],
      "metadata": {
        "colab": {
          "base_uri": "https://localhost:8080/"
        },
        "id": "rh7ZSxCzDuDQ",
        "outputId": "1e157452-29fe-4328-879e-f851910c497a"
      },
      "execution_count": null,
      "outputs": [
        {
          "output_type": "stream",
          "name": "stdout",
          "text": [
            "                            OLS Regression Results                            \n",
            "==============================================================================\n",
            "Dep. Variable:                  sales   R-squared:                       0.930\n",
            "Model:                            OLS   Adj. R-squared:                  0.930\n",
            "Method:                 Least Squares   F-statistic:                     3427.\n",
            "Date:                Tue, 26 Mar 2024   Prob (F-statistic):          4.66e-299\n",
            "Time:                        05:43:38   Log-Likelihood:                -2253.1\n",
            "No. Observations:                 520   AIC:                             4512.\n",
            "Df Residuals:                     517   BIC:                             4525.\n",
            "Df Model:                           2                                         \n",
            "Covariance Type:            nonrobust                                         \n",
            "=================================================================================\n",
            "                    coef    std err          t      P>|t|      [0.025      0.975]\n",
            "---------------------------------------------------------------------------------\n",
            "const            69.5085      0.962     72.226      0.000      67.618      71.399\n",
            "discount_perc     1.8256      0.081     22.494      0.000       1.666       1.985\n",
            "se_indicator    100.9494      3.019     33.440      0.000      95.019     106.880\n",
            "==============================================================================\n",
            "Omnibus:                       52.143   Durbin-Watson:                   2.064\n",
            "Prob(Omnibus):                  0.000   Jarque-Bera (JB):              139.683\n",
            "Skew:                           0.493   Prob(JB):                     4.66e-31\n",
            "Kurtosis:                       5.340   Cond. No.                         69.2\n",
            "==============================================================================\n",
            "\n",
            "Notes:\n",
            "[1] Standard Errors assume that the covariance matrix of the errors is correctly specified.\n"
          ]
        }
      ]
    },
    {
      "cell_type": "markdown",
      "source": [
        "\n",
        "Based on the OLS regression output for Model 2, the coefficients can be interpreted as follows:\n",
        "\n",
        "- **Constant (const):** The coefficient of 69.5085 represents the base level of sales when both the discount percentage and the occurrence of special events (se_indicator) are zero.\n",
        "- **Discount Percentage (discount_perc):** The coefficient of 1.8256 indicates that for every one percent increase in the discount percentage, sales are expected to increase by 1.8256 units, holding all other variables constant. This positive coefficient suggests that higher discounts lead to higher sales, reflecting the responsiveness of customers to price reductions.\n",
        "- **se_indicator:** Similar to Model 1, the coefficient of 100.9494 represents the expected increase in sales when there is a special event (se_indicator = 1), keeping the discount percentage constant. This positive coefficient indicates that special events have a significant positive impact on sales, independent of the discount percentage.\n",
        "\n",
        "All of the independent variables are statistically significant in contributing to sales as the outcome variable."
      ],
      "metadata": {
        "id": "uScvV93kaMLf"
      }
    },
    {
      "cell_type": "markdown",
      "source": [
        "### Predicted Sales using Model 2"
      ],
      "metadata": {
        "id": "f6eBaI_1Myr5"
      }
    },
    {
      "cell_type": "code",
      "source": [
        "discounted_perc = (new_promo_off / original_price) * 100\n",
        "\n",
        "# Predicting sales for New Promo ($25 off) and Special Event = 1\n",
        "sales_pred_2 = model_2.params['const'] + model_2.params['discount_perc']*discounted_perc + model_2.params['se_indicator']*1\n",
        "\n",
        "print('Predicted Sales from Model 2: $', np.round(sales_pred_2,2))"
      ],
      "metadata": {
        "colab": {
          "base_uri": "https://localhost:8080/"
        },
        "id": "4ITp5Tm9MXeh",
        "outputId": "b54d0b2a-24e2-4ade-b7fe-a933be1a006e"
      },
      "execution_count": null,
      "outputs": [
        {
          "output_type": "stream",
          "name": "stdout",
          "text": [
            "Predicted Sales from Model 2: $ 204.27\n"
          ]
        }
      ]
    },
    {
      "cell_type": "markdown",
      "source": [
        "**Model 2: Predicted Sales Interpretation**\n",
        "\n",
        "Based on the analysis using predictive model 2, if we offer a ~18.5% discount (`$`25 off the original price of `$`135) on jeans in a future week, we should expect approximately `$`204.27 sales in response. This prediction accounts for the impact of both the discounted percentage and the occurrence of special events on sales."
      ],
      "metadata": {
        "id": "IC4KWJa3YDkZ"
      }
    },
    {
      "cell_type": "markdown",
      "source": [
        "## Conclusion"
      ],
      "metadata": {
        "id": "awGrePyhYJKt"
      }
    },
    {
      "cell_type": "markdown",
      "source": [
        "**Comparison and Interpretation**\n",
        "\n",
        "Both Model 1 and Model 2 yield the same predicted sales value of `$`204.27 for a new promotional offer of `$`25 off / 18.5% off and a special event indicator set to 1.\n",
        "\n",
        "In Model 1, the discounted price is directly calculated as the original price minus the promotional discount. The prediction equation then incorporates this discounted price along with the special event indicator and the corresponding coefficients from the regression model to estimate sales.\n",
        "\n",
        "In Model 2, the discount percentage is calculated as the promotional discount divided by the original price, multiplied by 100 to express it as a percentage. The prediction equation in Model 2 then incorporates this discount percentage along with the special event indicator and the respective coefficients from the regression model to predict sales.\n",
        "\n",
        "The consistency of the predicted sales values between the two models highlights the robustness and stability of the regression models. Despite the different ways of representing the promotional discount (discounted price in Model 1 vs. discount percentage in Model 2), both models produce the same result. This indicates that the models are capturing the relationship between the predictors (discount-related variables and special event indicator) and sales effectively, regardless of the specific representation of the promotional discount.\n",
        "\n",
        "Therefore, the similarity in predicted sales values from both models reinforces the reliability of the models in forecasting sales outcomes under different promotional scenarios."
      ],
      "metadata": {
        "id": "K9sk0nxbcxPN"
      }
    },
    {
      "cell_type": "code",
      "source": [],
      "metadata": {
        "id": "i8Fz7YofRhuB"
      },
      "execution_count": null,
      "outputs": []
    }
  ]
}