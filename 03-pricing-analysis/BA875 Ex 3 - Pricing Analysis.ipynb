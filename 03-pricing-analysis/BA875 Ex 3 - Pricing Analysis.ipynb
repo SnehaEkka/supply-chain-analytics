{
  "nbformat": 4,
  "nbformat_minor": 0,
  "metadata": {
    "colab": {
      "provenance": []
    },
    "kernelspec": {
      "name": "python3",
      "display_name": "Python 3"
    },
    "language_info": {
      "name": "python"
    }
  },
  "cells": [
    {
      "cell_type": "markdown",
      "source": [
        "# **Exercise 3: Pricing Analysis**"
      ],
      "metadata": {
        "id": "HB_3-0bKf7H0"
      }
    },
    {
      "cell_type": "markdown",
      "source": [
        "## Importing Libraries"
      ],
      "metadata": {
        "id": "7ZHccPAFjtHN"
      }
    },
    {
      "cell_type": "code",
      "source": [
        "import pandas as pd\n",
        "import numpy as np\n",
        "import statsmodels.formula.api as smf\n",
        "from scipy.optimize import minimize_scalar"
      ],
      "metadata": {
        "id": "3p3tydN5iPz3"
      },
      "execution_count": null,
      "outputs": []
    },
    {
      "cell_type": "markdown",
      "source": [
        "## Part I: Pricing Analysis\n",
        "---\n",
        "- **Optimal pricing for weekend vs. weekday**\n",
        "- **Dataset:** demand_data_full\n",
        "\n",
        "Consider the objective where you would like to know how we should adjust prices between weekday and weekend to Maximize Profit. That is, given the information below on demand d(p) and cost below, as well as the data on price, demand, and weekend/weekday, the objective is to\n",
        "obtain two optimal prices and the corresponding profit for both cases.  \n",
        "\n",
        "Additional info:\n",
        "- Linear Price-response Curve: d(p) = 𝛽0 + 𝛽1p + 𝛽2𝑤\n",
        "- Assume unit cost of eggs is $4: c = 4\n",
        "- Unknown decision variable to optimize: p"
      ],
      "metadata": {
        "id": "dmy9nsameVNU"
      }
    },
    {
      "cell_type": "code",
      "execution_count": null,
      "metadata": {
        "colab": {
          "base_uri": "https://localhost:8080/",
          "height": 206
        },
        "id": "-JJ8Vy7Xd-WQ",
        "outputId": "dd6d51a1-26ef-4f99-e77e-4941c50b8e34"
      },
      "outputs": [
        {
          "output_type": "execute_result",
          "data": {
            "text/plain": [
              "   price  demand  weekend\n",
              "0   10.5      14        0\n",
              "1   15.0      12        0\n",
              "2    6.0      16        0\n",
              "3   12.0      32        1\n",
              "4   21.0       8        0"
            ],
            "text/html": [
              "\n",
              "  <div id=\"df-dafd5f13-d634-47fe-9b7a-4e1572a0c120\" class=\"colab-df-container\">\n",
              "    <div>\n",
              "<style scoped>\n",
              "    .dataframe tbody tr th:only-of-type {\n",
              "        vertical-align: middle;\n",
              "    }\n",
              "\n",
              "    .dataframe tbody tr th {\n",
              "        vertical-align: top;\n",
              "    }\n",
              "\n",
              "    .dataframe thead th {\n",
              "        text-align: right;\n",
              "    }\n",
              "</style>\n",
              "<table border=\"1\" class=\"dataframe\">\n",
              "  <thead>\n",
              "    <tr style=\"text-align: right;\">\n",
              "      <th></th>\n",
              "      <th>price</th>\n",
              "      <th>demand</th>\n",
              "      <th>weekend</th>\n",
              "    </tr>\n",
              "  </thead>\n",
              "  <tbody>\n",
              "    <tr>\n",
              "      <th>0</th>\n",
              "      <td>10.5</td>\n",
              "      <td>14</td>\n",
              "      <td>0</td>\n",
              "    </tr>\n",
              "    <tr>\n",
              "      <th>1</th>\n",
              "      <td>15.0</td>\n",
              "      <td>12</td>\n",
              "      <td>0</td>\n",
              "    </tr>\n",
              "    <tr>\n",
              "      <th>2</th>\n",
              "      <td>6.0</td>\n",
              "      <td>16</td>\n",
              "      <td>0</td>\n",
              "    </tr>\n",
              "    <tr>\n",
              "      <th>3</th>\n",
              "      <td>12.0</td>\n",
              "      <td>32</td>\n",
              "      <td>1</td>\n",
              "    </tr>\n",
              "    <tr>\n",
              "      <th>4</th>\n",
              "      <td>21.0</td>\n",
              "      <td>8</td>\n",
              "      <td>0</td>\n",
              "    </tr>\n",
              "  </tbody>\n",
              "</table>\n",
              "</div>\n",
              "    <div class=\"colab-df-buttons\">\n",
              "\n",
              "  <div class=\"colab-df-container\">\n",
              "    <button class=\"colab-df-convert\" onclick=\"convertToInteractive('df-dafd5f13-d634-47fe-9b7a-4e1572a0c120')\"\n",
              "            title=\"Convert this dataframe to an interactive table.\"\n",
              "            style=\"display:none;\">\n",
              "\n",
              "  <svg xmlns=\"http://www.w3.org/2000/svg\" height=\"24px\" viewBox=\"0 -960 960 960\">\n",
              "    <path d=\"M120-120v-720h720v720H120Zm60-500h600v-160H180v160Zm220 220h160v-160H400v160Zm0 220h160v-160H400v160ZM180-400h160v-160H180v160Zm440 0h160v-160H620v160ZM180-180h160v-160H180v160Zm440 0h160v-160H620v160Z\"/>\n",
              "  </svg>\n",
              "    </button>\n",
              "\n",
              "  <style>\n",
              "    .colab-df-container {\n",
              "      display:flex;\n",
              "      gap: 12px;\n",
              "    }\n",
              "\n",
              "    .colab-df-convert {\n",
              "      background-color: #E8F0FE;\n",
              "      border: none;\n",
              "      border-radius: 50%;\n",
              "      cursor: pointer;\n",
              "      display: none;\n",
              "      fill: #1967D2;\n",
              "      height: 32px;\n",
              "      padding: 0 0 0 0;\n",
              "      width: 32px;\n",
              "    }\n",
              "\n",
              "    .colab-df-convert:hover {\n",
              "      background-color: #E2EBFA;\n",
              "      box-shadow: 0px 1px 2px rgba(60, 64, 67, 0.3), 0px 1px 3px 1px rgba(60, 64, 67, 0.15);\n",
              "      fill: #174EA6;\n",
              "    }\n",
              "\n",
              "    .colab-df-buttons div {\n",
              "      margin-bottom: 4px;\n",
              "    }\n",
              "\n",
              "    [theme=dark] .colab-df-convert {\n",
              "      background-color: #3B4455;\n",
              "      fill: #D2E3FC;\n",
              "    }\n",
              "\n",
              "    [theme=dark] .colab-df-convert:hover {\n",
              "      background-color: #434B5C;\n",
              "      box-shadow: 0px 1px 3px 1px rgba(0, 0, 0, 0.15);\n",
              "      filter: drop-shadow(0px 1px 2px rgba(0, 0, 0, 0.3));\n",
              "      fill: #FFFFFF;\n",
              "    }\n",
              "  </style>\n",
              "\n",
              "    <script>\n",
              "      const buttonEl =\n",
              "        document.querySelector('#df-dafd5f13-d634-47fe-9b7a-4e1572a0c120 button.colab-df-convert');\n",
              "      buttonEl.style.display =\n",
              "        google.colab.kernel.accessAllowed ? 'block' : 'none';\n",
              "\n",
              "      async function convertToInteractive(key) {\n",
              "        const element = document.querySelector('#df-dafd5f13-d634-47fe-9b7a-4e1572a0c120');\n",
              "        const dataTable =\n",
              "          await google.colab.kernel.invokeFunction('convertToInteractive',\n",
              "                                                    [key], {});\n",
              "        if (!dataTable) return;\n",
              "\n",
              "        const docLinkHtml = 'Like what you see? Visit the ' +\n",
              "          '<a target=\"_blank\" href=https://colab.research.google.com/notebooks/data_table.ipynb>data table notebook</a>'\n",
              "          + ' to learn more about interactive tables.';\n",
              "        element.innerHTML = '';\n",
              "        dataTable['output_type'] = 'display_data';\n",
              "        await google.colab.output.renderOutput(dataTable, element);\n",
              "        const docLink = document.createElement('div');\n",
              "        docLink.innerHTML = docLinkHtml;\n",
              "        element.appendChild(docLink);\n",
              "      }\n",
              "    </script>\n",
              "  </div>\n",
              "\n",
              "\n",
              "<div id=\"df-704392e1-711f-4ed7-acf6-64412855f5e7\">\n",
              "  <button class=\"colab-df-quickchart\" onclick=\"quickchart('df-704392e1-711f-4ed7-acf6-64412855f5e7')\"\n",
              "            title=\"Suggest charts\"\n",
              "            style=\"display:none;\">\n",
              "\n",
              "<svg xmlns=\"http://www.w3.org/2000/svg\" height=\"24px\"viewBox=\"0 0 24 24\"\n",
              "     width=\"24px\">\n",
              "    <g>\n",
              "        <path d=\"M19 3H5c-1.1 0-2 .9-2 2v14c0 1.1.9 2 2 2h14c1.1 0 2-.9 2-2V5c0-1.1-.9-2-2-2zM9 17H7v-7h2v7zm4 0h-2V7h2v10zm4 0h-2v-4h2v4z\"/>\n",
              "    </g>\n",
              "</svg>\n",
              "  </button>\n",
              "\n",
              "<style>\n",
              "  .colab-df-quickchart {\n",
              "      --bg-color: #E8F0FE;\n",
              "      --fill-color: #1967D2;\n",
              "      --hover-bg-color: #E2EBFA;\n",
              "      --hover-fill-color: #174EA6;\n",
              "      --disabled-fill-color: #AAA;\n",
              "      --disabled-bg-color: #DDD;\n",
              "  }\n",
              "\n",
              "  [theme=dark] .colab-df-quickchart {\n",
              "      --bg-color: #3B4455;\n",
              "      --fill-color: #D2E3FC;\n",
              "      --hover-bg-color: #434B5C;\n",
              "      --hover-fill-color: #FFFFFF;\n",
              "      --disabled-bg-color: #3B4455;\n",
              "      --disabled-fill-color: #666;\n",
              "  }\n",
              "\n",
              "  .colab-df-quickchart {\n",
              "    background-color: var(--bg-color);\n",
              "    border: none;\n",
              "    border-radius: 50%;\n",
              "    cursor: pointer;\n",
              "    display: none;\n",
              "    fill: var(--fill-color);\n",
              "    height: 32px;\n",
              "    padding: 0;\n",
              "    width: 32px;\n",
              "  }\n",
              "\n",
              "  .colab-df-quickchart:hover {\n",
              "    background-color: var(--hover-bg-color);\n",
              "    box-shadow: 0 1px 2px rgba(60, 64, 67, 0.3), 0 1px 3px 1px rgba(60, 64, 67, 0.15);\n",
              "    fill: var(--button-hover-fill-color);\n",
              "  }\n",
              "\n",
              "  .colab-df-quickchart-complete:disabled,\n",
              "  .colab-df-quickchart-complete:disabled:hover {\n",
              "    background-color: var(--disabled-bg-color);\n",
              "    fill: var(--disabled-fill-color);\n",
              "    box-shadow: none;\n",
              "  }\n",
              "\n",
              "  .colab-df-spinner {\n",
              "    border: 2px solid var(--fill-color);\n",
              "    border-color: transparent;\n",
              "    border-bottom-color: var(--fill-color);\n",
              "    animation:\n",
              "      spin 1s steps(1) infinite;\n",
              "  }\n",
              "\n",
              "  @keyframes spin {\n",
              "    0% {\n",
              "      border-color: transparent;\n",
              "      border-bottom-color: var(--fill-color);\n",
              "      border-left-color: var(--fill-color);\n",
              "    }\n",
              "    20% {\n",
              "      border-color: transparent;\n",
              "      border-left-color: var(--fill-color);\n",
              "      border-top-color: var(--fill-color);\n",
              "    }\n",
              "    30% {\n",
              "      border-color: transparent;\n",
              "      border-left-color: var(--fill-color);\n",
              "      border-top-color: var(--fill-color);\n",
              "      border-right-color: var(--fill-color);\n",
              "    }\n",
              "    40% {\n",
              "      border-color: transparent;\n",
              "      border-right-color: var(--fill-color);\n",
              "      border-top-color: var(--fill-color);\n",
              "    }\n",
              "    60% {\n",
              "      border-color: transparent;\n",
              "      border-right-color: var(--fill-color);\n",
              "    }\n",
              "    80% {\n",
              "      border-color: transparent;\n",
              "      border-right-color: var(--fill-color);\n",
              "      border-bottom-color: var(--fill-color);\n",
              "    }\n",
              "    90% {\n",
              "      border-color: transparent;\n",
              "      border-bottom-color: var(--fill-color);\n",
              "    }\n",
              "  }\n",
              "</style>\n",
              "\n",
              "  <script>\n",
              "    async function quickchart(key) {\n",
              "      const quickchartButtonEl =\n",
              "        document.querySelector('#' + key + ' button');\n",
              "      quickchartButtonEl.disabled = true;  // To prevent multiple clicks.\n",
              "      quickchartButtonEl.classList.add('colab-df-spinner');\n",
              "      try {\n",
              "        const charts = await google.colab.kernel.invokeFunction(\n",
              "            'suggestCharts', [key], {});\n",
              "      } catch (error) {\n",
              "        console.error('Error during call to suggestCharts:', error);\n",
              "      }\n",
              "      quickchartButtonEl.classList.remove('colab-df-spinner');\n",
              "      quickchartButtonEl.classList.add('colab-df-quickchart-complete');\n",
              "    }\n",
              "    (() => {\n",
              "      let quickchartButtonEl =\n",
              "        document.querySelector('#df-704392e1-711f-4ed7-acf6-64412855f5e7 button');\n",
              "      quickchartButtonEl.style.display =\n",
              "        google.colab.kernel.accessAllowed ? 'block' : 'none';\n",
              "    })();\n",
              "  </script>\n",
              "</div>\n",
              "    </div>\n",
              "  </div>\n"
            ],
            "application/vnd.google.colaboratory.intrinsic+json": {
              "type": "dataframe",
              "variable_name": "demand_data",
              "summary": "{\n  \"name\": \"demand_data\",\n  \"rows\": 260,\n  \"fields\": [\n    {\n      \"column\": \"price\",\n      \"properties\": {\n        \"dtype\": \"number\",\n        \"std\": 5.266983137917889,\n        \"min\": 4.5,\n        \"max\": 22.5,\n        \"num_unique_values\": 13,\n        \"samples\": [\n          4.5,\n          19.5,\n          10.5\n        ],\n        \"semantic_type\": \"\",\n        \"description\": \"\"\n      }\n    },\n    {\n      \"column\": \"demand\",\n      \"properties\": {\n        \"dtype\": \"number\",\n        \"std\": 8,\n        \"min\": 6,\n        \"max\": 41,\n        \"num_unique_values\": 12,\n        \"samples\": [\n          6,\n          41,\n          14\n        ],\n        \"semantic_type\": \"\",\n        \"description\": \"\"\n      }\n    },\n    {\n      \"column\": \"weekend\",\n      \"properties\": {\n        \"dtype\": \"number\",\n        \"std\": 0,\n        \"min\": 0,\n        \"max\": 1,\n        \"num_unique_values\": 2,\n        \"samples\": [\n          1,\n          0\n        ],\n        \"semantic_type\": \"\",\n        \"description\": \"\"\n      }\n    }\n  ]\n}"
            }
          },
          "metadata": {},
          "execution_count": 2
        }
      ],
      "source": [
        "demand_data = pd.read_excel('/content/demand_data_full.xlsx')\n",
        "demand_data.head()"
      ]
    },
    {
      "cell_type": "code",
      "source": [
        "demand_data.info()"
      ],
      "metadata": {
        "colab": {
          "base_uri": "https://localhost:8080/"
        },
        "id": "Z-HWBF0Ei9Bl",
        "outputId": "a8f9bc4a-1be4-4fac-88c8-11f649f3542a"
      },
      "execution_count": null,
      "outputs": [
        {
          "output_type": "stream",
          "name": "stdout",
          "text": [
            "<class 'pandas.core.frame.DataFrame'>\n",
            "RangeIndex: 260 entries, 0 to 259\n",
            "Data columns (total 3 columns):\n",
            " #   Column   Non-Null Count  Dtype  \n",
            "---  ------   --------------  -----  \n",
            " 0   price    260 non-null    float64\n",
            " 1   demand   260 non-null    int64  \n",
            " 2   weekend  260 non-null    int64  \n",
            "dtypes: float64(1), int64(2)\n",
            "memory usage: 6.2 KB\n"
          ]
        }
      ]
    },
    {
      "cell_type": "code",
      "source": [
        "demand_data.groupby('weekend')['demand'].mean()"
      ],
      "metadata": {
        "colab": {
          "base_uri": "https://localhost:8080/"
        },
        "id": "-3meK2ZAjfB8",
        "outputId": "684f585c-2e66-42da-ce09-877d2262b410"
      },
      "execution_count": null,
      "outputs": [
        {
          "output_type": "execute_result",
          "data": {
            "text/plain": [
              "weekend\n",
              "0    12.248705\n",
              "1    28.298507\n",
              "Name: demand, dtype: float64"
            ]
          },
          "metadata": {},
          "execution_count": 4
        }
      ]
    },
    {
      "cell_type": "markdown",
      "source": [
        "### 1.1 Regression\n",
        "\n",
        "- Estimate the demand d(p) by regressing on price and weekend.\n",
        "- Interpret the regression results. Provide an interpretation in your own words!"
      ],
      "metadata": {
        "id": "YK5qlpmqehnz"
      }
    },
    {
      "cell_type": "code",
      "source": [
        "model_ols = smf.ols(formula='demand ~ price + weekend', data=demand_data).fit()\n",
        "print(model_ols.summary())"
      ],
      "metadata": {
        "colab": {
          "base_uri": "https://localhost:8080/"
        },
        "id": "9agYBtNni_fw",
        "outputId": "70ae6076-531e-4401-ce9b-216ba57c6e6f"
      },
      "execution_count": null,
      "outputs": [
        {
          "output_type": "stream",
          "name": "stdout",
          "text": [
            "                            OLS Regression Results                            \n",
            "==============================================================================\n",
            "Dep. Variable:                 demand   R-squared:                       0.942\n",
            "Model:                            OLS   Adj. R-squared:                  0.942\n",
            "Method:                 Least Squares   F-statistic:                     2092.\n",
            "Date:                Sun, 07 Apr 2024   Prob (F-statistic):          9.57e-160\n",
            "Time:                        17:16:31   Log-Likelihood:                -551.52\n",
            "No. Observations:                 260   AIC:                             1109.\n",
            "Df Residuals:                     257   BIC:                             1120.\n",
            "Df Model:                           2                                         \n",
            "Covariance Type:            nonrobust                                         \n",
            "==============================================================================\n",
            "                 coef    std err          t      P>|t|      [0.025      0.975]\n",
            "------------------------------------------------------------------------------\n",
            "Intercept     22.7331      0.352     64.662      0.000      22.041      23.425\n",
            "price         -0.7853      0.024    -32.788      0.000      -0.832      -0.738\n",
            "weekend       16.0193      0.288     55.647      0.000      15.452      16.586\n",
            "==============================================================================\n",
            "Omnibus:                       25.333   Durbin-Watson:                   1.980\n",
            "Prob(Omnibus):                  0.000   Jarque-Bera (JB):               55.954\n",
            "Skew:                          -0.471   Prob(JB):                     7.07e-13\n",
            "Kurtosis:                       5.068   Cond. No.                         41.7\n",
            "==============================================================================\n",
            "\n",
            "Notes:\n",
            "[1] Standard Errors assume that the covariance matrix of the errors is correctly specified.\n"
          ]
        }
      ]
    },
    {
      "cell_type": "markdown",
      "source": [
        "### 1.2 Weekday\n",
        "\n",
        "Calculate the optimal weekday price p* (when w = 0) and its corresponding profit\n",
        "- Clearly state your findings, do not simply show output of running code.\n",
        "- Determine whether the optimal weekday price is within the credible range and provide response in your own words!"
      ],
      "metadata": {
        "id": "ZfLlMmAAkNlG"
      }
    },
    {
      "cell_type": "code",
      "source": [
        "c = 4\n",
        "intercept = model_ols.params[0]\n",
        "price_coef = model_ols.params[1]\n",
        "weekend_coef = model_ols.params[2]\n",
        "\n",
        "# Write objective: profit\n",
        "# Add -1 to the minimizer if you want to maximize\n",
        "# D(p)(p-c)\n",
        "pi_weekday = lambda p: -(model_ols.params[0] + model_ols.params[1]*p) * (p-c)\n",
        "\n",
        "# Calculating optimal price p* for weekday (w=0)\n",
        "optimal_weekday = minimize_scalar(pi_weekday, method='brent')\n",
        "optimal_price_weekday = optimal_weekday.x\n",
        "\n",
        "print(\"Weekday Optimal Price: $\", np.round(optimal_price_weekday, 2))"
      ],
      "metadata": {
        "colab": {
          "base_uri": "https://localhost:8080/"
        },
        "id": "7vxBB7QFj8SK",
        "outputId": "dc1e818d-3b8e-48ee-b6d3-b4b4a1ae7d95"
      },
      "execution_count": null,
      "outputs": [
        {
          "output_type": "stream",
          "name": "stdout",
          "text": [
            "Weekday Optimal Price: $ 16.47\n"
          ]
        }
      ]
    },
    {
      "cell_type": "code",
      "source": [
        "min_price = demand_data.price.min()\n",
        "max_price = demand_data.price.max()\n",
        "\n",
        "print(f'(Min) {min_price}', ' < ', round(optimal_price_weekday, 2), ' < ', f'{max_price} (Max)')\n",
        "min_price < optimal_price_weekday < max_price"
      ],
      "metadata": {
        "colab": {
          "base_uri": "https://localhost:8080/"
        },
        "id": "zAvJNpcMnRJ6",
        "outputId": "a0897844-f911-4479-daa4-ab4a502df156"
      },
      "execution_count": null,
      "outputs": [
        {
          "output_type": "stream",
          "name": "stdout",
          "text": [
            "(Min) 4.5  <  16.47  <  22.5 (Max)\n"
          ]
        },
        {
          "output_type": "execute_result",
          "data": {
            "text/plain": [
              "True"
            ]
          },
          "metadata": {},
          "execution_count": 44
        }
      ]
    },
    {
      "cell_type": "code",
      "source": [
        "optimal_profit_weekday = -optimal_weekday.fun\n",
        "\n",
        "print(\"Corresponding profit for Optimal Weekday Price is: $\", np.round(optimal_profit_weekday, 2))"
      ],
      "metadata": {
        "colab": {
          "base_uri": "https://localhost:8080/"
        },
        "id": "ME_dtWzrpyjk",
        "outputId": "a1396db8-9732-488c-ff0a-2b6be47229f4"
      },
      "execution_count": null,
      "outputs": [
        {
          "output_type": "stream",
          "name": "stdout",
          "text": [
            "Corresponding profit for Optimal Weekday Price is: $ 122.2\n"
          ]
        }
      ]
    },
    {
      "cell_type": "markdown",
      "source": [
        "### 1.3 Weekend\n",
        "\n",
        "Calculate the optimal weekend price p* (when w = 1) and its corresponding profit.\n",
        "- Clearly state your findings, do not simply show output of running code.\n",
        "- Determine whether the optimal week."
      ],
      "metadata": {
        "id": "afe2Orf6oi8w"
      }
    },
    {
      "cell_type": "code",
      "source": [
        "# Write objective: profit\n",
        "# Add -1 to the minimizer if you want to maximize\n",
        "# D(p)(p-c)\n",
        "pi_weekend = lambda p: -(model_ols.params[0] + model_ols.params[1]*p + model_ols.params[2]*1) * (p-c)\n",
        "\n",
        "# Calculating optimal price p* for weekday (w=0)\n",
        "optimal_weekend = minimize_scalar(pi_weekend, method='brent')\n",
        "optimal_price_weekend = optimal_weekend.x\n",
        "\n",
        "print(\"Weekend Optimal Price: $\", np.round(optimal_price_weekend, 2))"
      ],
      "metadata": {
        "colab": {
          "base_uri": "https://localhost:8080/"
        },
        "id": "dOyrA-jPoDxu",
        "outputId": "6f8bc801-c98a-4b23-a2e7-12aa213719a0"
      },
      "execution_count": null,
      "outputs": [
        {
          "output_type": "stream",
          "name": "stdout",
          "text": [
            "Weekend Optimal Price: $ 26.67\n"
          ]
        }
      ]
    },
    {
      "cell_type": "code",
      "source": [
        "print(f'(Min) {min_price}', ' < ', round(optimal_price_weekend, 2), ' < ', f'{max_price} (Max)')\n",
        "min_price < optimal_price_weekend < max_price"
      ],
      "metadata": {
        "colab": {
          "base_uri": "https://localhost:8080/"
        },
        "id": "phrJ4dArqtoY",
        "outputId": "e9c1d913-eb66-4916-fd1a-112c3fd5d618"
      },
      "execution_count": null,
      "outputs": [
        {
          "output_type": "stream",
          "name": "stdout",
          "text": [
            "(Min) 4.5  <  26.67  <  22.5 (Max)\n"
          ]
        },
        {
          "output_type": "execute_result",
          "data": {
            "text/plain": [
              "False"
            ]
          },
          "metadata": {},
          "execution_count": 47
        }
      ]
    },
    {
      "cell_type": "code",
      "source": [
        "optimal_profit_weekend = -optimal_weekend.fun\n",
        "\n",
        "print(\"Corresponding profit for Optimal Weekend Price is: $\", np.round(optimal_profit_weekend, 2))"
      ],
      "metadata": {
        "colab": {
          "base_uri": "https://localhost:8080/"
        },
        "id": "v2vRCNogr5w4",
        "outputId": "e64e8f68-3704-4d1c-ed5a-800464ca6d84"
      },
      "execution_count": null,
      "outputs": [
        {
          "output_type": "stream",
          "name": "stdout",
          "text": [
            "Corresponding profit for Optimal Weekend Price is: $ 403.72\n"
          ]
        }
      ]
    },
    {
      "cell_type": "markdown",
      "source": [
        "## Part II: Pricing Analysis\n",
        "---\n",
        "- **New vs Refurbished Product**  \n",
        "- **Dataset:** refurb_data\n",
        "\n",
        "Consider the objective where you would like to know how we should adjust our refurbished prices depending on the range of new price offerings: 300, 350, 400 (verify all possible values by looking at the data yourself). The objective is to set optimal refurbished prices for all ranges of new prices and the corresponding profit for each case.\n",
        "\n",
        "As a start, you need to get a sense of demand d(p) for the refurbished price offerings. This can be achieved by tallying up (counting) all of the instances in the data when the consumer chose the refurbished product, on a day-to-day basis. And this daily demand representing the cumulative ‘refurb’ outcomes, could be used as your dependent variable for a d(p) regression.\n",
        "\n",
        "Additional info:\n",
        "- Linear Price-response Curve: d(p) = 𝛽0 + 𝛽1𝑟𝑒𝑓𝑢𝑟𝑏_𝑝𝑟𝑖𝑐𝑒 + 𝛽2𝑛𝑒𝑤_𝑝𝑟𝑖𝑐𝑒  \n",
        "- New prices = [300, 350, 400]  \n",
        "- Assume unit cost of refurbished product is $150 : c = 150\n",
        "- Margin: (p-c) = (refurb_price -150)"
      ],
      "metadata": {
        "id": "U1BZDLcqwrif"
      }
    },
    {
      "cell_type": "code",
      "source": [
        "refurb_data = pd.read_csv('/content/refurb_data.csv')\n",
        "refurb_data.head()"
      ],
      "metadata": {
        "colab": {
          "base_uri": "https://localhost:8080/",
          "height": 206
        },
        "id": "M-3H8393ywaA",
        "outputId": "6c83df09-be61-45d6-b979-c4b7f05040cf"
      },
      "execution_count": null,
      "outputs": [
        {
          "output_type": "execute_result",
          "data": {
            "text/plain": [
              "        dates  new_price  refurb_price  choice\n",
              "0  2014-06-01        400         264.0  refurb\n",
              "1  2014-06-01        400         264.0  refurb\n",
              "2  2014-06-01        400         264.0  refurb\n",
              "3  2014-06-01        400         264.0     new\n",
              "4  2014-06-01        400         264.0     new"
            ],
            "text/html": [
              "\n",
              "  <div id=\"df-28c28371-0e92-4122-8d24-de3d94364cd6\" class=\"colab-df-container\">\n",
              "    <div>\n",
              "<style scoped>\n",
              "    .dataframe tbody tr th:only-of-type {\n",
              "        vertical-align: middle;\n",
              "    }\n",
              "\n",
              "    .dataframe tbody tr th {\n",
              "        vertical-align: top;\n",
              "    }\n",
              "\n",
              "    .dataframe thead th {\n",
              "        text-align: right;\n",
              "    }\n",
              "</style>\n",
              "<table border=\"1\" class=\"dataframe\">\n",
              "  <thead>\n",
              "    <tr style=\"text-align: right;\">\n",
              "      <th></th>\n",
              "      <th>dates</th>\n",
              "      <th>new_price</th>\n",
              "      <th>refurb_price</th>\n",
              "      <th>choice</th>\n",
              "    </tr>\n",
              "  </thead>\n",
              "  <tbody>\n",
              "    <tr>\n",
              "      <th>0</th>\n",
              "      <td>2014-06-01</td>\n",
              "      <td>400</td>\n",
              "      <td>264.0</td>\n",
              "      <td>refurb</td>\n",
              "    </tr>\n",
              "    <tr>\n",
              "      <th>1</th>\n",
              "      <td>2014-06-01</td>\n",
              "      <td>400</td>\n",
              "      <td>264.0</td>\n",
              "      <td>refurb</td>\n",
              "    </tr>\n",
              "    <tr>\n",
              "      <th>2</th>\n",
              "      <td>2014-06-01</td>\n",
              "      <td>400</td>\n",
              "      <td>264.0</td>\n",
              "      <td>refurb</td>\n",
              "    </tr>\n",
              "    <tr>\n",
              "      <th>3</th>\n",
              "      <td>2014-06-01</td>\n",
              "      <td>400</td>\n",
              "      <td>264.0</td>\n",
              "      <td>new</td>\n",
              "    </tr>\n",
              "    <tr>\n",
              "      <th>4</th>\n",
              "      <td>2014-06-01</td>\n",
              "      <td>400</td>\n",
              "      <td>264.0</td>\n",
              "      <td>new</td>\n",
              "    </tr>\n",
              "  </tbody>\n",
              "</table>\n",
              "</div>\n",
              "    <div class=\"colab-df-buttons\">\n",
              "\n",
              "  <div class=\"colab-df-container\">\n",
              "    <button class=\"colab-df-convert\" onclick=\"convertToInteractive('df-28c28371-0e92-4122-8d24-de3d94364cd6')\"\n",
              "            title=\"Convert this dataframe to an interactive table.\"\n",
              "            style=\"display:none;\">\n",
              "\n",
              "  <svg xmlns=\"http://www.w3.org/2000/svg\" height=\"24px\" viewBox=\"0 -960 960 960\">\n",
              "    <path d=\"M120-120v-720h720v720H120Zm60-500h600v-160H180v160Zm220 220h160v-160H400v160Zm0 220h160v-160H400v160ZM180-400h160v-160H180v160Zm440 0h160v-160H620v160ZM180-180h160v-160H180v160Zm440 0h160v-160H620v160Z\"/>\n",
              "  </svg>\n",
              "    </button>\n",
              "\n",
              "  <style>\n",
              "    .colab-df-container {\n",
              "      display:flex;\n",
              "      gap: 12px;\n",
              "    }\n",
              "\n",
              "    .colab-df-convert {\n",
              "      background-color: #E8F0FE;\n",
              "      border: none;\n",
              "      border-radius: 50%;\n",
              "      cursor: pointer;\n",
              "      display: none;\n",
              "      fill: #1967D2;\n",
              "      height: 32px;\n",
              "      padding: 0 0 0 0;\n",
              "      width: 32px;\n",
              "    }\n",
              "\n",
              "    .colab-df-convert:hover {\n",
              "      background-color: #E2EBFA;\n",
              "      box-shadow: 0px 1px 2px rgba(60, 64, 67, 0.3), 0px 1px 3px 1px rgba(60, 64, 67, 0.15);\n",
              "      fill: #174EA6;\n",
              "    }\n",
              "\n",
              "    .colab-df-buttons div {\n",
              "      margin-bottom: 4px;\n",
              "    }\n",
              "\n",
              "    [theme=dark] .colab-df-convert {\n",
              "      background-color: #3B4455;\n",
              "      fill: #D2E3FC;\n",
              "    }\n",
              "\n",
              "    [theme=dark] .colab-df-convert:hover {\n",
              "      background-color: #434B5C;\n",
              "      box-shadow: 0px 1px 3px 1px rgba(0, 0, 0, 0.15);\n",
              "      filter: drop-shadow(0px 1px 2px rgba(0, 0, 0, 0.3));\n",
              "      fill: #FFFFFF;\n",
              "    }\n",
              "  </style>\n",
              "\n",
              "    <script>\n",
              "      const buttonEl =\n",
              "        document.querySelector('#df-28c28371-0e92-4122-8d24-de3d94364cd6 button.colab-df-convert');\n",
              "      buttonEl.style.display =\n",
              "        google.colab.kernel.accessAllowed ? 'block' : 'none';\n",
              "\n",
              "      async function convertToInteractive(key) {\n",
              "        const element = document.querySelector('#df-28c28371-0e92-4122-8d24-de3d94364cd6');\n",
              "        const dataTable =\n",
              "          await google.colab.kernel.invokeFunction('convertToInteractive',\n",
              "                                                    [key], {});\n",
              "        if (!dataTable) return;\n",
              "\n",
              "        const docLinkHtml = 'Like what you see? Visit the ' +\n",
              "          '<a target=\"_blank\" href=https://colab.research.google.com/notebooks/data_table.ipynb>data table notebook</a>'\n",
              "          + ' to learn more about interactive tables.';\n",
              "        element.innerHTML = '';\n",
              "        dataTable['output_type'] = 'display_data';\n",
              "        await google.colab.output.renderOutput(dataTable, element);\n",
              "        const docLink = document.createElement('div');\n",
              "        docLink.innerHTML = docLinkHtml;\n",
              "        element.appendChild(docLink);\n",
              "      }\n",
              "    </script>\n",
              "  </div>\n",
              "\n",
              "\n",
              "<div id=\"df-be1eaae4-046c-4304-8f2b-302a3a912358\">\n",
              "  <button class=\"colab-df-quickchart\" onclick=\"quickchart('df-be1eaae4-046c-4304-8f2b-302a3a912358')\"\n",
              "            title=\"Suggest charts\"\n",
              "            style=\"display:none;\">\n",
              "\n",
              "<svg xmlns=\"http://www.w3.org/2000/svg\" height=\"24px\"viewBox=\"0 0 24 24\"\n",
              "     width=\"24px\">\n",
              "    <g>\n",
              "        <path d=\"M19 3H5c-1.1 0-2 .9-2 2v14c0 1.1.9 2 2 2h14c1.1 0 2-.9 2-2V5c0-1.1-.9-2-2-2zM9 17H7v-7h2v7zm4 0h-2V7h2v10zm4 0h-2v-4h2v4z\"/>\n",
              "    </g>\n",
              "</svg>\n",
              "  </button>\n",
              "\n",
              "<style>\n",
              "  .colab-df-quickchart {\n",
              "      --bg-color: #E8F0FE;\n",
              "      --fill-color: #1967D2;\n",
              "      --hover-bg-color: #E2EBFA;\n",
              "      --hover-fill-color: #174EA6;\n",
              "      --disabled-fill-color: #AAA;\n",
              "      --disabled-bg-color: #DDD;\n",
              "  }\n",
              "\n",
              "  [theme=dark] .colab-df-quickchart {\n",
              "      --bg-color: #3B4455;\n",
              "      --fill-color: #D2E3FC;\n",
              "      --hover-bg-color: #434B5C;\n",
              "      --hover-fill-color: #FFFFFF;\n",
              "      --disabled-bg-color: #3B4455;\n",
              "      --disabled-fill-color: #666;\n",
              "  }\n",
              "\n",
              "  .colab-df-quickchart {\n",
              "    background-color: var(--bg-color);\n",
              "    border: none;\n",
              "    border-radius: 50%;\n",
              "    cursor: pointer;\n",
              "    display: none;\n",
              "    fill: var(--fill-color);\n",
              "    height: 32px;\n",
              "    padding: 0;\n",
              "    width: 32px;\n",
              "  }\n",
              "\n",
              "  .colab-df-quickchart:hover {\n",
              "    background-color: var(--hover-bg-color);\n",
              "    box-shadow: 0 1px 2px rgba(60, 64, 67, 0.3), 0 1px 3px 1px rgba(60, 64, 67, 0.15);\n",
              "    fill: var(--button-hover-fill-color);\n",
              "  }\n",
              "\n",
              "  .colab-df-quickchart-complete:disabled,\n",
              "  .colab-df-quickchart-complete:disabled:hover {\n",
              "    background-color: var(--disabled-bg-color);\n",
              "    fill: var(--disabled-fill-color);\n",
              "    box-shadow: none;\n",
              "  }\n",
              "\n",
              "  .colab-df-spinner {\n",
              "    border: 2px solid var(--fill-color);\n",
              "    border-color: transparent;\n",
              "    border-bottom-color: var(--fill-color);\n",
              "    animation:\n",
              "      spin 1s steps(1) infinite;\n",
              "  }\n",
              "\n",
              "  @keyframes spin {\n",
              "    0% {\n",
              "      border-color: transparent;\n",
              "      border-bottom-color: var(--fill-color);\n",
              "      border-left-color: var(--fill-color);\n",
              "    }\n",
              "    20% {\n",
              "      border-color: transparent;\n",
              "      border-left-color: var(--fill-color);\n",
              "      border-top-color: var(--fill-color);\n",
              "    }\n",
              "    30% {\n",
              "      border-color: transparent;\n",
              "      border-left-color: var(--fill-color);\n",
              "      border-top-color: var(--fill-color);\n",
              "      border-right-color: var(--fill-color);\n",
              "    }\n",
              "    40% {\n",
              "      border-color: transparent;\n",
              "      border-right-color: var(--fill-color);\n",
              "      border-top-color: var(--fill-color);\n",
              "    }\n",
              "    60% {\n",
              "      border-color: transparent;\n",
              "      border-right-color: var(--fill-color);\n",
              "    }\n",
              "    80% {\n",
              "      border-color: transparent;\n",
              "      border-right-color: var(--fill-color);\n",
              "      border-bottom-color: var(--fill-color);\n",
              "    }\n",
              "    90% {\n",
              "      border-color: transparent;\n",
              "      border-bottom-color: var(--fill-color);\n",
              "    }\n",
              "  }\n",
              "</style>\n",
              "\n",
              "  <script>\n",
              "    async function quickchart(key) {\n",
              "      const quickchartButtonEl =\n",
              "        document.querySelector('#' + key + ' button');\n",
              "      quickchartButtonEl.disabled = true;  // To prevent multiple clicks.\n",
              "      quickchartButtonEl.classList.add('colab-df-spinner');\n",
              "      try {\n",
              "        const charts = await google.colab.kernel.invokeFunction(\n",
              "            'suggestCharts', [key], {});\n",
              "      } catch (error) {\n",
              "        console.error('Error during call to suggestCharts:', error);\n",
              "      }\n",
              "      quickchartButtonEl.classList.remove('colab-df-spinner');\n",
              "      quickchartButtonEl.classList.add('colab-df-quickchart-complete');\n",
              "    }\n",
              "    (() => {\n",
              "      let quickchartButtonEl =\n",
              "        document.querySelector('#df-be1eaae4-046c-4304-8f2b-302a3a912358 button');\n",
              "      quickchartButtonEl.style.display =\n",
              "        google.colab.kernel.accessAllowed ? 'block' : 'none';\n",
              "    })();\n",
              "  </script>\n",
              "</div>\n",
              "    </div>\n",
              "  </div>\n"
            ],
            "application/vnd.google.colaboratory.intrinsic+json": {
              "type": "dataframe",
              "variable_name": "refurb_data",
              "summary": "{\n  \"name\": \"refurb_data\",\n  \"rows\": 500,\n  \"fields\": [\n    {\n      \"column\": \"dates\",\n      \"properties\": {\n        \"dtype\": \"object\",\n        \"num_unique_values\": 30,\n        \"samples\": [\n          \"2014-06-28\",\n          \"2014-06-16\",\n          \"2014-06-24\"\n        ],\n        \"semantic_type\": \"\",\n        \"description\": \"\"\n      }\n    },\n    {\n      \"column\": \"new_price\",\n      \"properties\": {\n        \"dtype\": \"number\",\n        \"std\": 40,\n        \"min\": 300,\n        \"max\": 400,\n        \"num_unique_values\": 3,\n        \"samples\": [\n          400,\n          350,\n          300\n        ],\n        \"semantic_type\": \"\",\n        \"description\": \"\"\n      }\n    },\n    {\n      \"column\": \"refurb_price\",\n      \"properties\": {\n        \"dtype\": \"number\",\n        \"std\": 49.27487317337818,\n        \"min\": 151.0,\n        \"max\": 337.0,\n        \"num_unique_values\": 27,\n        \"samples\": [\n          277.0,\n          228.0,\n          273.0\n        ],\n        \"semantic_type\": \"\",\n        \"description\": \"\"\n      }\n    },\n    {\n      \"column\": \"choice\",\n      \"properties\": {\n        \"dtype\": \"category\",\n        \"num_unique_values\": 2,\n        \"samples\": [\n          \"new\",\n          \"refurb\"\n        ],\n        \"semantic_type\": \"\",\n        \"description\": \"\"\n      }\n    }\n  ]\n}"
            }
          },
          "metadata": {},
          "execution_count": 49
        }
      ]
    },
    {
      "cell_type": "code",
      "source": [
        "refurb_data.info()"
      ],
      "metadata": {
        "colab": {
          "base_uri": "https://localhost:8080/"
        },
        "id": "NR04S41OywWc",
        "outputId": "e2f9c2e4-6758-4e82-bd48-8428c7f91b55"
      },
      "execution_count": null,
      "outputs": [
        {
          "output_type": "stream",
          "name": "stdout",
          "text": [
            "<class 'pandas.core.frame.DataFrame'>\n",
            "RangeIndex: 500 entries, 0 to 499\n",
            "Data columns (total 4 columns):\n",
            " #   Column        Non-Null Count  Dtype  \n",
            "---  ------        --------------  -----  \n",
            " 0   dates         500 non-null    object \n",
            " 1   new_price     500 non-null    int64  \n",
            " 2   refurb_price  500 non-null    float64\n",
            " 3   choice        500 non-null    object \n",
            "dtypes: float64(1), int64(1), object(2)\n",
            "memory usage: 15.8+ KB\n"
          ]
        }
      ]
    },
    {
      "cell_type": "code",
      "source": [
        "refurb_demand = pd.DataFrame(refurb_data[refurb_data['choice']=='refurb'].groupby(['dates','choice'],\n",
        "                                                                                  as_index=False).agg({'new_price':'mean',\n",
        "                                                                                                       'refurb_price':'mean',\n",
        "                                                                                                       'choice':'count'}))\n",
        "refurb_demand.rename(columns={'choice':'refurb_demand'}, inplace=True)\n",
        "refurb_demand"
      ],
      "metadata": {
        "colab": {
          "base_uri": "https://localhost:8080/",
          "height": 990
        },
        "id": "3O1QvKFbywUk",
        "outputId": "db9a85ff-7c5d-43c0-a339-79378e6ff0b6"
      },
      "execution_count": null,
      "outputs": [
        {
          "output_type": "execute_result",
          "data": {
            "text/plain": [
              "         dates  new_price  refurb_price  refurb_demand\n",
              "0   2014-06-01      400.0         264.0              9\n",
              "1   2014-06-02      400.0         305.0              3\n",
              "2   2014-06-03      400.0         306.0              6\n",
              "3   2014-06-04      400.0         283.0              7\n",
              "4   2014-06-05      400.0         305.0              8\n",
              "5   2014-06-06      400.0         278.0              7\n",
              "6   2014-06-07      400.0         337.0              3\n",
              "7   2014-06-08      400.0         286.0              8\n",
              "8   2014-06-09      400.0         335.0              5\n",
              "9   2014-06-10      400.0         277.0              7\n",
              "10  2014-06-11      350.0         277.0              8\n",
              "11  2014-06-12      350.0         273.0              6\n",
              "12  2014-06-13      350.0         204.0              6\n",
              "13  2014-06-14      350.0         298.0              1\n",
              "14  2014-06-15      350.0         242.0              4\n",
              "15  2014-06-16      350.0         228.0              7\n",
              "16  2014-06-17      350.0         293.0              4\n",
              "17  2014-06-18      350.0         267.0              6\n",
              "18  2014-06-19      350.0         299.0              3\n",
              "19  2014-06-20      350.0         223.0              6\n",
              "20  2014-06-21      300.0         161.0              9\n",
              "21  2014-06-22      300.0         217.0              6\n",
              "22  2014-06-23      300.0         175.0              2\n",
              "23  2014-06-24      300.0         163.0             10\n",
              "24  2014-06-25      300.0         238.0              6\n",
              "25  2014-06-26      300.0         242.0              1\n",
              "26  2014-06-27      300.0         151.0              7\n",
              "27  2014-06-28      300.0         215.0              6\n",
              "28  2014-06-29      300.0         220.0              3\n",
              "29  2014-06-30      300.0         222.0              6"
            ],
            "text/html": [
              "\n",
              "  <div id=\"df-eb6f9996-e0b1-49bf-9f22-6dcbba5d3c04\" class=\"colab-df-container\">\n",
              "    <div>\n",
              "<style scoped>\n",
              "    .dataframe tbody tr th:only-of-type {\n",
              "        vertical-align: middle;\n",
              "    }\n",
              "\n",
              "    .dataframe tbody tr th {\n",
              "        vertical-align: top;\n",
              "    }\n",
              "\n",
              "    .dataframe thead th {\n",
              "        text-align: right;\n",
              "    }\n",
              "</style>\n",
              "<table border=\"1\" class=\"dataframe\">\n",
              "  <thead>\n",
              "    <tr style=\"text-align: right;\">\n",
              "      <th></th>\n",
              "      <th>dates</th>\n",
              "      <th>new_price</th>\n",
              "      <th>refurb_price</th>\n",
              "      <th>refurb_demand</th>\n",
              "    </tr>\n",
              "  </thead>\n",
              "  <tbody>\n",
              "    <tr>\n",
              "      <th>0</th>\n",
              "      <td>2014-06-01</td>\n",
              "      <td>400.0</td>\n",
              "      <td>264.0</td>\n",
              "      <td>9</td>\n",
              "    </tr>\n",
              "    <tr>\n",
              "      <th>1</th>\n",
              "      <td>2014-06-02</td>\n",
              "      <td>400.0</td>\n",
              "      <td>305.0</td>\n",
              "      <td>3</td>\n",
              "    </tr>\n",
              "    <tr>\n",
              "      <th>2</th>\n",
              "      <td>2014-06-03</td>\n",
              "      <td>400.0</td>\n",
              "      <td>306.0</td>\n",
              "      <td>6</td>\n",
              "    </tr>\n",
              "    <tr>\n",
              "      <th>3</th>\n",
              "      <td>2014-06-04</td>\n",
              "      <td>400.0</td>\n",
              "      <td>283.0</td>\n",
              "      <td>7</td>\n",
              "    </tr>\n",
              "    <tr>\n",
              "      <th>4</th>\n",
              "      <td>2014-06-05</td>\n",
              "      <td>400.0</td>\n",
              "      <td>305.0</td>\n",
              "      <td>8</td>\n",
              "    </tr>\n",
              "    <tr>\n",
              "      <th>5</th>\n",
              "      <td>2014-06-06</td>\n",
              "      <td>400.0</td>\n",
              "      <td>278.0</td>\n",
              "      <td>7</td>\n",
              "    </tr>\n",
              "    <tr>\n",
              "      <th>6</th>\n",
              "      <td>2014-06-07</td>\n",
              "      <td>400.0</td>\n",
              "      <td>337.0</td>\n",
              "      <td>3</td>\n",
              "    </tr>\n",
              "    <tr>\n",
              "      <th>7</th>\n",
              "      <td>2014-06-08</td>\n",
              "      <td>400.0</td>\n",
              "      <td>286.0</td>\n",
              "      <td>8</td>\n",
              "    </tr>\n",
              "    <tr>\n",
              "      <th>8</th>\n",
              "      <td>2014-06-09</td>\n",
              "      <td>400.0</td>\n",
              "      <td>335.0</td>\n",
              "      <td>5</td>\n",
              "    </tr>\n",
              "    <tr>\n",
              "      <th>9</th>\n",
              "      <td>2014-06-10</td>\n",
              "      <td>400.0</td>\n",
              "      <td>277.0</td>\n",
              "      <td>7</td>\n",
              "    </tr>\n",
              "    <tr>\n",
              "      <th>10</th>\n",
              "      <td>2014-06-11</td>\n",
              "      <td>350.0</td>\n",
              "      <td>277.0</td>\n",
              "      <td>8</td>\n",
              "    </tr>\n",
              "    <tr>\n",
              "      <th>11</th>\n",
              "      <td>2014-06-12</td>\n",
              "      <td>350.0</td>\n",
              "      <td>273.0</td>\n",
              "      <td>6</td>\n",
              "    </tr>\n",
              "    <tr>\n",
              "      <th>12</th>\n",
              "      <td>2014-06-13</td>\n",
              "      <td>350.0</td>\n",
              "      <td>204.0</td>\n",
              "      <td>6</td>\n",
              "    </tr>\n",
              "    <tr>\n",
              "      <th>13</th>\n",
              "      <td>2014-06-14</td>\n",
              "      <td>350.0</td>\n",
              "      <td>298.0</td>\n",
              "      <td>1</td>\n",
              "    </tr>\n",
              "    <tr>\n",
              "      <th>14</th>\n",
              "      <td>2014-06-15</td>\n",
              "      <td>350.0</td>\n",
              "      <td>242.0</td>\n",
              "      <td>4</td>\n",
              "    </tr>\n",
              "    <tr>\n",
              "      <th>15</th>\n",
              "      <td>2014-06-16</td>\n",
              "      <td>350.0</td>\n",
              "      <td>228.0</td>\n",
              "      <td>7</td>\n",
              "    </tr>\n",
              "    <tr>\n",
              "      <th>16</th>\n",
              "      <td>2014-06-17</td>\n",
              "      <td>350.0</td>\n",
              "      <td>293.0</td>\n",
              "      <td>4</td>\n",
              "    </tr>\n",
              "    <tr>\n",
              "      <th>17</th>\n",
              "      <td>2014-06-18</td>\n",
              "      <td>350.0</td>\n",
              "      <td>267.0</td>\n",
              "      <td>6</td>\n",
              "    </tr>\n",
              "    <tr>\n",
              "      <th>18</th>\n",
              "      <td>2014-06-19</td>\n",
              "      <td>350.0</td>\n",
              "      <td>299.0</td>\n",
              "      <td>3</td>\n",
              "    </tr>\n",
              "    <tr>\n",
              "      <th>19</th>\n",
              "      <td>2014-06-20</td>\n",
              "      <td>350.0</td>\n",
              "      <td>223.0</td>\n",
              "      <td>6</td>\n",
              "    </tr>\n",
              "    <tr>\n",
              "      <th>20</th>\n",
              "      <td>2014-06-21</td>\n",
              "      <td>300.0</td>\n",
              "      <td>161.0</td>\n",
              "      <td>9</td>\n",
              "    </tr>\n",
              "    <tr>\n",
              "      <th>21</th>\n",
              "      <td>2014-06-22</td>\n",
              "      <td>300.0</td>\n",
              "      <td>217.0</td>\n",
              "      <td>6</td>\n",
              "    </tr>\n",
              "    <tr>\n",
              "      <th>22</th>\n",
              "      <td>2014-06-23</td>\n",
              "      <td>300.0</td>\n",
              "      <td>175.0</td>\n",
              "      <td>2</td>\n",
              "    </tr>\n",
              "    <tr>\n",
              "      <th>23</th>\n",
              "      <td>2014-06-24</td>\n",
              "      <td>300.0</td>\n",
              "      <td>163.0</td>\n",
              "      <td>10</td>\n",
              "    </tr>\n",
              "    <tr>\n",
              "      <th>24</th>\n",
              "      <td>2014-06-25</td>\n",
              "      <td>300.0</td>\n",
              "      <td>238.0</td>\n",
              "      <td>6</td>\n",
              "    </tr>\n",
              "    <tr>\n",
              "      <th>25</th>\n",
              "      <td>2014-06-26</td>\n",
              "      <td>300.0</td>\n",
              "      <td>242.0</td>\n",
              "      <td>1</td>\n",
              "    </tr>\n",
              "    <tr>\n",
              "      <th>26</th>\n",
              "      <td>2014-06-27</td>\n",
              "      <td>300.0</td>\n",
              "      <td>151.0</td>\n",
              "      <td>7</td>\n",
              "    </tr>\n",
              "    <tr>\n",
              "      <th>27</th>\n",
              "      <td>2014-06-28</td>\n",
              "      <td>300.0</td>\n",
              "      <td>215.0</td>\n",
              "      <td>6</td>\n",
              "    </tr>\n",
              "    <tr>\n",
              "      <th>28</th>\n",
              "      <td>2014-06-29</td>\n",
              "      <td>300.0</td>\n",
              "      <td>220.0</td>\n",
              "      <td>3</td>\n",
              "    </tr>\n",
              "    <tr>\n",
              "      <th>29</th>\n",
              "      <td>2014-06-30</td>\n",
              "      <td>300.0</td>\n",
              "      <td>222.0</td>\n",
              "      <td>6</td>\n",
              "    </tr>\n",
              "  </tbody>\n",
              "</table>\n",
              "</div>\n",
              "    <div class=\"colab-df-buttons\">\n",
              "\n",
              "  <div class=\"colab-df-container\">\n",
              "    <button class=\"colab-df-convert\" onclick=\"convertToInteractive('df-eb6f9996-e0b1-49bf-9f22-6dcbba5d3c04')\"\n",
              "            title=\"Convert this dataframe to an interactive table.\"\n",
              "            style=\"display:none;\">\n",
              "\n",
              "  <svg xmlns=\"http://www.w3.org/2000/svg\" height=\"24px\" viewBox=\"0 -960 960 960\">\n",
              "    <path d=\"M120-120v-720h720v720H120Zm60-500h600v-160H180v160Zm220 220h160v-160H400v160Zm0 220h160v-160H400v160ZM180-400h160v-160H180v160Zm440 0h160v-160H620v160ZM180-180h160v-160H180v160Zm440 0h160v-160H620v160Z\"/>\n",
              "  </svg>\n",
              "    </button>\n",
              "\n",
              "  <style>\n",
              "    .colab-df-container {\n",
              "      display:flex;\n",
              "      gap: 12px;\n",
              "    }\n",
              "\n",
              "    .colab-df-convert {\n",
              "      background-color: #E8F0FE;\n",
              "      border: none;\n",
              "      border-radius: 50%;\n",
              "      cursor: pointer;\n",
              "      display: none;\n",
              "      fill: #1967D2;\n",
              "      height: 32px;\n",
              "      padding: 0 0 0 0;\n",
              "      width: 32px;\n",
              "    }\n",
              "\n",
              "    .colab-df-convert:hover {\n",
              "      background-color: #E2EBFA;\n",
              "      box-shadow: 0px 1px 2px rgba(60, 64, 67, 0.3), 0px 1px 3px 1px rgba(60, 64, 67, 0.15);\n",
              "      fill: #174EA6;\n",
              "    }\n",
              "\n",
              "    .colab-df-buttons div {\n",
              "      margin-bottom: 4px;\n",
              "    }\n",
              "\n",
              "    [theme=dark] .colab-df-convert {\n",
              "      background-color: #3B4455;\n",
              "      fill: #D2E3FC;\n",
              "    }\n",
              "\n",
              "    [theme=dark] .colab-df-convert:hover {\n",
              "      background-color: #434B5C;\n",
              "      box-shadow: 0px 1px 3px 1px rgba(0, 0, 0, 0.15);\n",
              "      filter: drop-shadow(0px 1px 2px rgba(0, 0, 0, 0.3));\n",
              "      fill: #FFFFFF;\n",
              "    }\n",
              "  </style>\n",
              "\n",
              "    <script>\n",
              "      const buttonEl =\n",
              "        document.querySelector('#df-eb6f9996-e0b1-49bf-9f22-6dcbba5d3c04 button.colab-df-convert');\n",
              "      buttonEl.style.display =\n",
              "        google.colab.kernel.accessAllowed ? 'block' : 'none';\n",
              "\n",
              "      async function convertToInteractive(key) {\n",
              "        const element = document.querySelector('#df-eb6f9996-e0b1-49bf-9f22-6dcbba5d3c04');\n",
              "        const dataTable =\n",
              "          await google.colab.kernel.invokeFunction('convertToInteractive',\n",
              "                                                    [key], {});\n",
              "        if (!dataTable) return;\n",
              "\n",
              "        const docLinkHtml = 'Like what you see? Visit the ' +\n",
              "          '<a target=\"_blank\" href=https://colab.research.google.com/notebooks/data_table.ipynb>data table notebook</a>'\n",
              "          + ' to learn more about interactive tables.';\n",
              "        element.innerHTML = '';\n",
              "        dataTable['output_type'] = 'display_data';\n",
              "        await google.colab.output.renderOutput(dataTable, element);\n",
              "        const docLink = document.createElement('div');\n",
              "        docLink.innerHTML = docLinkHtml;\n",
              "        element.appendChild(docLink);\n",
              "      }\n",
              "    </script>\n",
              "  </div>\n",
              "\n",
              "\n",
              "<div id=\"df-bdc6bc51-f47f-44b0-b46f-3178deeee6ee\">\n",
              "  <button class=\"colab-df-quickchart\" onclick=\"quickchart('df-bdc6bc51-f47f-44b0-b46f-3178deeee6ee')\"\n",
              "            title=\"Suggest charts\"\n",
              "            style=\"display:none;\">\n",
              "\n",
              "<svg xmlns=\"http://www.w3.org/2000/svg\" height=\"24px\"viewBox=\"0 0 24 24\"\n",
              "     width=\"24px\">\n",
              "    <g>\n",
              "        <path d=\"M19 3H5c-1.1 0-2 .9-2 2v14c0 1.1.9 2 2 2h14c1.1 0 2-.9 2-2V5c0-1.1-.9-2-2-2zM9 17H7v-7h2v7zm4 0h-2V7h2v10zm4 0h-2v-4h2v4z\"/>\n",
              "    </g>\n",
              "</svg>\n",
              "  </button>\n",
              "\n",
              "<style>\n",
              "  .colab-df-quickchart {\n",
              "      --bg-color: #E8F0FE;\n",
              "      --fill-color: #1967D2;\n",
              "      --hover-bg-color: #E2EBFA;\n",
              "      --hover-fill-color: #174EA6;\n",
              "      --disabled-fill-color: #AAA;\n",
              "      --disabled-bg-color: #DDD;\n",
              "  }\n",
              "\n",
              "  [theme=dark] .colab-df-quickchart {\n",
              "      --bg-color: #3B4455;\n",
              "      --fill-color: #D2E3FC;\n",
              "      --hover-bg-color: #434B5C;\n",
              "      --hover-fill-color: #FFFFFF;\n",
              "      --disabled-bg-color: #3B4455;\n",
              "      --disabled-fill-color: #666;\n",
              "  }\n",
              "\n",
              "  .colab-df-quickchart {\n",
              "    background-color: var(--bg-color);\n",
              "    border: none;\n",
              "    border-radius: 50%;\n",
              "    cursor: pointer;\n",
              "    display: none;\n",
              "    fill: var(--fill-color);\n",
              "    height: 32px;\n",
              "    padding: 0;\n",
              "    width: 32px;\n",
              "  }\n",
              "\n",
              "  .colab-df-quickchart:hover {\n",
              "    background-color: var(--hover-bg-color);\n",
              "    box-shadow: 0 1px 2px rgba(60, 64, 67, 0.3), 0 1px 3px 1px rgba(60, 64, 67, 0.15);\n",
              "    fill: var(--button-hover-fill-color);\n",
              "  }\n",
              "\n",
              "  .colab-df-quickchart-complete:disabled,\n",
              "  .colab-df-quickchart-complete:disabled:hover {\n",
              "    background-color: var(--disabled-bg-color);\n",
              "    fill: var(--disabled-fill-color);\n",
              "    box-shadow: none;\n",
              "  }\n",
              "\n",
              "  .colab-df-spinner {\n",
              "    border: 2px solid var(--fill-color);\n",
              "    border-color: transparent;\n",
              "    border-bottom-color: var(--fill-color);\n",
              "    animation:\n",
              "      spin 1s steps(1) infinite;\n",
              "  }\n",
              "\n",
              "  @keyframes spin {\n",
              "    0% {\n",
              "      border-color: transparent;\n",
              "      border-bottom-color: var(--fill-color);\n",
              "      border-left-color: var(--fill-color);\n",
              "    }\n",
              "    20% {\n",
              "      border-color: transparent;\n",
              "      border-left-color: var(--fill-color);\n",
              "      border-top-color: var(--fill-color);\n",
              "    }\n",
              "    30% {\n",
              "      border-color: transparent;\n",
              "      border-left-color: var(--fill-color);\n",
              "      border-top-color: var(--fill-color);\n",
              "      border-right-color: var(--fill-color);\n",
              "    }\n",
              "    40% {\n",
              "      border-color: transparent;\n",
              "      border-right-color: var(--fill-color);\n",
              "      border-top-color: var(--fill-color);\n",
              "    }\n",
              "    60% {\n",
              "      border-color: transparent;\n",
              "      border-right-color: var(--fill-color);\n",
              "    }\n",
              "    80% {\n",
              "      border-color: transparent;\n",
              "      border-right-color: var(--fill-color);\n",
              "      border-bottom-color: var(--fill-color);\n",
              "    }\n",
              "    90% {\n",
              "      border-color: transparent;\n",
              "      border-bottom-color: var(--fill-color);\n",
              "    }\n",
              "  }\n",
              "</style>\n",
              "\n",
              "  <script>\n",
              "    async function quickchart(key) {\n",
              "      const quickchartButtonEl =\n",
              "        document.querySelector('#' + key + ' button');\n",
              "      quickchartButtonEl.disabled = true;  // To prevent multiple clicks.\n",
              "      quickchartButtonEl.classList.add('colab-df-spinner');\n",
              "      try {\n",
              "        const charts = await google.colab.kernel.invokeFunction(\n",
              "            'suggestCharts', [key], {});\n",
              "      } catch (error) {\n",
              "        console.error('Error during call to suggestCharts:', error);\n",
              "      }\n",
              "      quickchartButtonEl.classList.remove('colab-df-spinner');\n",
              "      quickchartButtonEl.classList.add('colab-df-quickchart-complete');\n",
              "    }\n",
              "    (() => {\n",
              "      let quickchartButtonEl =\n",
              "        document.querySelector('#df-bdc6bc51-f47f-44b0-b46f-3178deeee6ee button');\n",
              "      quickchartButtonEl.style.display =\n",
              "        google.colab.kernel.accessAllowed ? 'block' : 'none';\n",
              "    })();\n",
              "  </script>\n",
              "</div>\n",
              "    </div>\n",
              "  </div>\n"
            ],
            "application/vnd.google.colaboratory.intrinsic+json": {
              "type": "dataframe",
              "variable_name": "refurb_demand",
              "summary": "{\n  \"name\": \"refurb_demand\",\n  \"rows\": 30,\n  \"fields\": [\n    {\n      \"column\": \"dates\",\n      \"properties\": {\n        \"dtype\": \"object\",\n        \"num_unique_values\": 30,\n        \"samples\": [\n          \"2014-06-28\",\n          \"2014-06-16\",\n          \"2014-06-24\"\n        ],\n        \"semantic_type\": \"\",\n        \"description\": \"\"\n      }\n    },\n    {\n      \"column\": \"new_price\",\n      \"properties\": {\n        \"dtype\": \"number\",\n        \"std\": 41.52273992686998,\n        \"min\": 300.0,\n        \"max\": 400.0,\n        \"num_unique_values\": 3,\n        \"samples\": [\n          400.0,\n          350.0,\n          300.0\n        ],\n        \"semantic_type\": \"\",\n        \"description\": \"\"\n      }\n    },\n    {\n      \"column\": \"refurb_price\",\n      \"properties\": {\n        \"dtype\": \"number\",\n        \"std\": 50.66958551785996,\n        \"min\": 151.0,\n        \"max\": 337.0,\n        \"num_unique_values\": 27,\n        \"samples\": [\n          277.0,\n          228.0,\n          273.0\n        ],\n        \"semantic_type\": \"\",\n        \"description\": \"\"\n      }\n    },\n    {\n      \"column\": \"refurb_demand\",\n      \"properties\": {\n        \"dtype\": \"number\",\n        \"std\": 2,\n        \"min\": 1,\n        \"max\": 10,\n        \"num_unique_values\": 10,\n        \"samples\": [\n          2,\n          3,\n          5\n        ],\n        \"semantic_type\": \"\",\n        \"description\": \"\"\n      }\n    }\n  ]\n}"
            }
          },
          "metadata": {},
          "execution_count": 51
        }
      ]
    },
    {
      "cell_type": "code",
      "source": [
        "# Regressing refurb_demand on new and refurb prices\n",
        "model_ols_2 = smf.ols(formula='refurb_demand ~ refurb_price + new_price', data=refurb_demand).fit()\n",
        "print(model_ols_2.summary())"
      ],
      "metadata": {
        "colab": {
          "base_uri": "https://localhost:8080/"
        },
        "id": "B9GI6IcSywRJ",
        "outputId": "ba0801fa-e3d6-4700-92ca-820a06df78bd"
      },
      "execution_count": null,
      "outputs": [
        {
          "output_type": "stream",
          "name": "stdout",
          "text": [
            "                            OLS Regression Results                            \n",
            "==============================================================================\n",
            "Dep. Variable:          refurb_demand   R-squared:                       0.360\n",
            "Model:                            OLS   Adj. R-squared:                  0.313\n",
            "Method:                 Least Squares   F-statistic:                     7.601\n",
            "Date:                Sun, 07 Apr 2024   Prob (F-statistic):            0.00241\n",
            "Time:                        18:28:49   Log-Likelihood:                -60.852\n",
            "No. Observations:                  30   AIC:                             127.7\n",
            "Df Residuals:                      27   BIC:                             131.9\n",
            "Df Model:                           2                                         \n",
            "Covariance Type:            nonrobust                                         \n",
            "================================================================================\n",
            "                   coef    std err          t      P>|t|      [0.025      0.975]\n",
            "--------------------------------------------------------------------------------\n",
            "Intercept       -0.7019      3.224     -0.218      0.829      -7.316       5.912\n",
            "refurb_price    -0.0448      0.012     -3.815      0.001      -0.069      -0.021\n",
            "new_price        0.0506      0.014      3.527      0.002       0.021       0.080\n",
            "==============================================================================\n",
            "Omnibus:                        1.240   Durbin-Watson:                   2.250\n",
            "Prob(Omnibus):                  0.538   Jarque-Bera (JB):                1.026\n",
            "Skew:                          -0.433   Prob(JB):                        0.599\n",
            "Kurtosis:                       2.733   Cond. No.                     3.97e+03\n",
            "==============================================================================\n",
            "\n",
            "Notes:\n",
            "[1] Standard Errors assume that the covariance matrix of the errors is correctly specified.\n",
            "[2] The condition number is large, 3.97e+03. This might indicate that there are\n",
            "strong multicollinearity or other numerical problems.\n"
          ]
        }
      ]
    },
    {
      "cell_type": "markdown",
      "source": [
        "### 2.1 Optimal refurbished price and profit | New price = 300"
      ],
      "metadata": {
        "id": "Ni-UJBbIxesg"
      }
    },
    {
      "cell_type": "code",
      "source": [
        "c = 150\n",
        "intercept = model_ols_2.params[0]\n",
        "refurb_coef = model_ols_2.params[1]\n",
        "new_coef = model_ols_2.params[2]\n",
        "\n",
        "# Write objective: profit\n",
        "# Add -1 to the minimizer if you want to maximize\n",
        "# D(p)(p-c)\n",
        "pi_300 = lambda r: -(intercept + refurb_coef*r + new_coef*300) * (r-c)\n",
        "\n",
        "# Calculating optimal price p* for weekday (w=0)\n",
        "optimal_refurb_300 = minimize_scalar(pi_300, method='brent')\n",
        "optimal_refurb_300_price = optimal_refurb_300.x\n",
        "\n",
        "print(\"When New Price = 300, Optimal Refurbished Price is: $\", np.round(optimal_refurb_300_price, 2))"
      ],
      "metadata": {
        "colab": {
          "base_uri": "https://localhost:8080/"
        },
        "id": "OXxzA0VMsV-S",
        "outputId": "2a8124ce-3845-4e21-a139-50e71e1c38ce"
      },
      "execution_count": null,
      "outputs": [
        {
          "output_type": "stream",
          "name": "stdout",
          "text": [
            "When New Price = 300, Optimal Refurbished Price is: $ 236.39\n"
          ]
        }
      ]
    },
    {
      "cell_type": "code",
      "source": [
        "optimal_refurb_300_profit = -optimal_refurb_300.fun\n",
        "\n",
        "print(\"When New Price = $300\")\n",
        "print(\"And Optimal Refurbished Price = $\", np.round(optimal_refurb_300_price, 2))\n",
        "print(\"Corresponding profit is = $\", np.round(optimal_refurb_300_profit, 2))"
      ],
      "metadata": {
        "colab": {
          "base_uri": "https://localhost:8080/"
        },
        "id": "xIDz8VHb14ly",
        "outputId": "957ec33a-3524-410d-910c-d2223a2f1723"
      },
      "execution_count": null,
      "outputs": [
        {
          "output_type": "stream",
          "name": "stdout",
          "text": [
            "When New Price = $300\n",
            "And Optimal Refurbished Price = $ 236.39\n",
            "Corresponding profit is = $ 334.63\n"
          ]
        }
      ]
    },
    {
      "cell_type": "markdown",
      "source": [
        "### 2.2 Optimal refurbished price and profit | New price = 350"
      ],
      "metadata": {
        "id": "R1PGtIG-xvIt"
      }
    },
    {
      "cell_type": "code",
      "source": [
        "# Write objective: profit\n",
        "# Add -1 to the minimizer if you want to maximize\n",
        "# D(p)(p-c)\n",
        "pi_350 = lambda r: -(intercept + refurb_coef*r + new_coef*350) * (r-c)\n",
        "\n",
        "# Calculating optimal price p* for weekday (w=0)\n",
        "optimal_refurb_350 = minimize_scalar(pi_350, method='brent')\n",
        "optimal_refurb_350_price = optimal_refurb_350.x\n",
        "\n",
        "print(\"When New Price = 350, Optimal Refurbished Price is: $\", np.round(optimal_refurb_350_price, 2))"
      ],
      "metadata": {
        "colab": {
          "base_uri": "https://localhost:8080/"
        },
        "id": "5nEWrS5SxuuZ",
        "outputId": "8194e9d8-0be4-4849-9a9e-080993532490"
      },
      "execution_count": null,
      "outputs": [
        {
          "output_type": "stream",
          "name": "stdout",
          "text": [
            "When New Price = 350, Optimal Refurbished Price is: $ 264.6\n"
          ]
        }
      ]
    },
    {
      "cell_type": "code",
      "source": [
        "optimal_refurb_350_profit = -optimal_refurb_350.fun\n",
        "\n",
        "print(\"When New Price = $350\")\n",
        "print(\"And Optimal Refurbished Price = $\", np.round(optimal_refurb_350_price, 2))\n",
        "print(\"Corresponding profit is = $\", np.round(optimal_refurb_350_profit, 2))"
      ],
      "metadata": {
        "colab": {
          "base_uri": "https://localhost:8080/"
        },
        "id": "NYwZZDky25s2",
        "outputId": "f5253330-4fe8-4e5b-e40a-19748ccda196"
      },
      "execution_count": null,
      "outputs": [
        {
          "output_type": "stream",
          "name": "stdout",
          "text": [
            "When New Price = $350\n",
            "And Optimal Refurbished Price = $ 264.6\n",
            "Corresponding profit is = $ 588.77\n"
          ]
        }
      ]
    },
    {
      "cell_type": "markdown",
      "source": [
        "### 2.3 Optimal refurbished price and profit | New price = 400"
      ],
      "metadata": {
        "id": "yPtNDQ3Ixyiq"
      }
    },
    {
      "cell_type": "code",
      "source": [
        "# Write objective: profit\n",
        "# Add -1 to the minimizer if you want to maximize\n",
        "# D(p)(p-c)\n",
        "pi_400 = lambda r: -(intercept + refurb_coef*r + new_coef*400) * (r-c)\n",
        "\n",
        "# Calculating optimal price p* for weekday (w=0)\n",
        "optimal_refurb_400 = minimize_scalar(pi_400, method='brent')\n",
        "optimal_refurb_400_price = optimal_refurb_400.x\n",
        "\n",
        "print(\"When New Price = 400, Optimal Refurbished Price is: $\", np.round(optimal_refurb_400_price, 2))"
      ],
      "metadata": {
        "colab": {
          "base_uri": "https://localhost:8080/"
        },
        "id": "eN_wewk8x0wd",
        "outputId": "63d0de6c-f695-4da2-aafd-0a8afae70c25"
      },
      "execution_count": null,
      "outputs": [
        {
          "output_type": "stream",
          "name": "stdout",
          "text": [
            "When New Price = 400, Optimal Refurbished Price is: $ 292.8\n"
          ]
        }
      ]
    },
    {
      "cell_type": "code",
      "source": [
        "optimal_refurb_400_profit = -optimal_refurb_400.fun\n",
        "\n",
        "print(\"When New Price = $400\")\n",
        "print(\"And Optimal Refurbished Price = $\", np.round(optimal_refurb_400_price, 2))\n",
        "print(\"Corresponding profit is = $\", np.round(optimal_refurb_400_profit, 2))"
      ],
      "metadata": {
        "colab": {
          "base_uri": "https://localhost:8080/"
        },
        "id": "Vr5ELaz23HcE",
        "outputId": "02f33614-d660-4f26-ad4b-bdf016919873"
      },
      "execution_count": null,
      "outputs": [
        {
          "output_type": "stream",
          "name": "stdout",
          "text": [
            "When New Price = $400\n",
            "And Optimal Refurbished Price = $ 292.8\n",
            "Corresponding profit is = $ 914.24\n"
          ]
        }
      ]
    },
    {
      "cell_type": "markdown",
      "source": [
        "### 2.4 Comparison & Interpretation\n",
        "Comment on the differences in the optimal refurbished price when offering the three different new prices. Next, comment on the differences in the optimal profit when offering the three different new prices."
      ],
      "metadata": {
        "id": "WjYTmFbyx-5r"
      }
    },
    {
      "cell_type": "markdown",
      "source": [
        "## Part III: Pricing Analysis\n",
        "---\n",
        "- **Two-Segment pricing**\n",
        "- **Dataset:** [none needed]\n",
        "\n",
        "Consider the objective where you would like to know how to segment prices to obtain more potential profit. Assume that you are able to charge one price to all customers in segment 1 and another price to all customers in segment 2. Ultimately, you want to determine whether the (i) strategy of segmenting to offer two distinct prices (segmentation) outperforms the (ii) default strategy of offering a singular price (no segmentation).\n",
        "\n",
        "Additional info:\n",
        "- Linear Price-response Curve: d(p) = 10000-800p\n",
        "- Cost is `$`5 : c = 5\n",
        "- Also assume you will be able to price differently for customers with WTP above and below `$`7"
      ],
      "metadata": {
        "id": "NmI67NAp3aD2"
      }
    },
    {
      "cell_type": "markdown",
      "source": [
        "### 3.1 Find the optimal price when only offering one price (with no segmentation)"
      ],
      "metadata": {
        "id": "IXVQwzqZ38Uz"
      }
    },
    {
      "cell_type": "code",
      "source": [
        "cost = 5\n",
        "num_consumers = 10000\n",
        "wtp_threshold = 7\n",
        "max_price = 12.5\n",
        "\n",
        "def unsegmented(p):\n",
        "    return -(num_consumers - 800 * p) * (p - cost)\n",
        "optimal_result = minimize_scalar(unsegmented, method='bounded', bounds=(0, max_price))\n",
        "optimal_price_unsegmented = optimal_result.x\n",
        "optimal_profit_unsegmented = -unsegmented(optimal_result.x)\n",
        "\n",
        "print(f\"Optimal Unsegmented Price: ${optimal_price_unsegmented}\")\n",
        "print(f\"Corresponding Profit for Unsegmented Price: ${optimal_profit_unsegmented}\")"
      ],
      "metadata": {
        "colab": {
          "base_uri": "https://localhost:8080/"
        },
        "id": "q2AVH9TK4Gpf",
        "outputId": "912edcca-8c69-4e7e-d280-f35dce8b3a0c"
      },
      "execution_count": null,
      "outputs": [
        {
          "output_type": "stream",
          "name": "stdout",
          "text": [
            "Optimal Unsegmented Price: $8.75\n",
            "Corresponding Profit for Unsegmented Price: $11250.0\n"
          ]
        }
      ]
    },
    {
      "cell_type": "markdown",
      "source": [
        "### 3.2 Report optimal prices p* for segment 1 and segment 2"
      ],
      "metadata": {
        "id": "1KkN_OQ33ViW"
      }
    },
    {
      "cell_type": "code",
      "source": [
        "def seg2(p):\n",
        "    return -(wtp_threshold / max_price * num_consumers - 800 * p) * (p - cost)\n",
        "\n",
        "optimal_result = minimize_scalar(unsegmented, method='bounded', bounds=(0, max_price))\n",
        "optimal_price_seg1 = round(optimal_result.x, 2)\n",
        "profit_seg1 = round(-unsegmented(optimal_result.x), 2)\n",
        "\n",
        "seg2_optimal_result = minimize_scalar(seg2, method='bounded', bounds=(0, max_price))\n",
        "optimal_price_seg2 = round(seg2_optimal_result.x, 2)\n",
        "profit_seg2 = round(-seg2(seg2_optimal_result.x), 2)\n",
        "\n",
        "total_profit = round(profit_seg1 + profit_seg2, 2)\n",
        "\n",
        "print(f\"Segment 1:\")\n",
        "print(f\"Optimal Price (p*): ${optimal_price_seg1}\")\n",
        "print(f\"Corresponding Profit: ${profit_seg1}\\n\")\n",
        "print(f\"Segment 2:\")\n",
        "print(f\"Optimal Price (p*): ${optimal_price_seg2}\")\n",
        "print(f\"Corresponding Profit: ${profit_seg2}\\n\")\n",
        "print(f\"Total Profit: ${total_profit}\")"
      ],
      "metadata": {
        "colab": {
          "base_uri": "https://localhost:8080/"
        },
        "id": "wtdNAyup4MHN",
        "outputId": "24d87ce9-e252-4948-fd22-88740094de44"
      },
      "execution_count": null,
      "outputs": [
        {
          "output_type": "stream",
          "name": "stdout",
          "text": [
            "Segment 1:\n",
            "Optimal Price (p*): $8.75\n",
            "Corresponding Profit: $11250.0\n",
            "\n",
            "Segment 2:\n",
            "Optimal Price (p*): $6.0\n",
            "Corresponding Profit: $800.0\n",
            "\n",
            "Total Profit: $12050.0\n"
          ]
        }
      ]
    },
    {
      "cell_type": "markdown",
      "source": [
        "### 3.3 Report the difference in profit and offer your conclusion of the two strategies (i) and (ii)"
      ],
      "metadata": {
        "id": "YYKrWPkQ4MoN"
      }
    },
    {
      "cell_type": "markdown",
      "source": [
        "**Interpretation**\n",
        "\n",
        "- **Single Market Strategy:**\n",
        "Without segmentation, the optimal price remains at 8.75 per unit, resulting in a profit of 11,250. This approach treats the entire market as one homogeneous entity.\n",
        "\n",
        "- **Segmented Market Approach:** Upon dividing the market into two distinct segments, varying optimal prices emerge. For segment 1, the optimal price remains unchanged at 8.75, yielding the same profit of 11,250. However, for segment 2, a lower optimal price of 6.00 is identified, generating a profit of 800.\n",
        "\n",
        "- **Comparative Analysis:** Segmenting the market proves to be more profitable, with a total profit of 12,050, exceeding the profit generated without segmentation by 800. This underscores the efficacy of tailoring pricing strategies to specific market segments, enabling the capture of additional consumer surplus from varying price sensitivities. Such segmentation facilitates a more refined approach to pricing, optimizing profitability across diverse consumer segments."
      ],
      "metadata": {
        "id": "fpYuTWY762m9"
      }
    },
    {
      "cell_type": "code",
      "source": [],
      "metadata": {
        "id": "-GaNaeB-4YSV"
      },
      "execution_count": null,
      "outputs": []
    }
  ]
}